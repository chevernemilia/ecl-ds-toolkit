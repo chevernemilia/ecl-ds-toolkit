{
 "cells": [
  {
   "cell_type": "markdown",
   "id": "d458da6b-ab5e-4433-a6df-566ba9d9da9b",
   "metadata": {},
   "source": [
    "# Data Structures Practice\n"
   ]
  },
  {
   "cell_type": "code",
   "execution_count": null,
   "id": "715b035f-b667-4561-9d39-6be7bc38b988",
   "metadata": {},
   "outputs": [],
   "source": []
  },
  {
   "cell_type": "code",
   "execution_count": null,
   "id": "e006bbff-d1a5-42e9-b59c-4993e5e661e4",
   "metadata": {},
   "outputs": [],
   "source": []
  },
  {
   "cell_type": "code",
   "execution_count": null,
   "id": "cd13539a-52fb-4d47-bfa8-d64db0fdff0b",
   "metadata": {},
   "outputs": [],
   "source": []
  },
  {
   "cell_type": "code",
   "execution_count": null,
   "id": "8c3e30d0-f7fc-4bed-a86f-a078b8f659b6",
   "metadata": {},
   "outputs": [],
   "source": []
  },
  {
   "cell_type": "code",
   "execution_count": null,
   "id": "2ee42c1c-c06e-460d-903e-f227c1a1421d",
   "metadata": {},
   "outputs": [],
   "source": []
  },
  {
   "cell_type": "code",
   "execution_count": null,
   "id": "840ea566-11a4-4a5b-b003-59dc553d1731",
   "metadata": {},
   "outputs": [],
   "source": []
  },
  {
   "cell_type": "code",
   "execution_count": null,
   "id": "14254944-128b-4028-a16a-7b3f995f3a0a",
   "metadata": {},
   "outputs": [],
   "source": []
  }
 ],
 "metadata": {
  "kernelspec": {
   "display_name": "Python 3 (ipykernel)",
   "language": "python",
   "name": "python3"
  },
  "language_info": {
   "codemirror_mode": {
    "name": "ipython",
    "version": 3
   },
   "file_extension": ".py",
   "mimetype": "text/x-python",
   "name": "python",
   "nbconvert_exporter": "python",
   "pygments_lexer": "ipython3",
   "version": "3.9.13"
  }
 },
 "nbformat": 4,
 "nbformat_minor": 5
}
