{
 "cells": [
  {
   "cell_type": "markdown",
   "id": "d458da6b-ab5e-4433-a6df-566ba9d9da9b",
   "metadata": {},
   "source": [
    "# Data Structures Practice\n"
   ]
  },
  {
   "cell_type": "markdown",
   "id": "46ac8aeb-bb76-4ae8-82b7-deb82e6de4b7",
   "metadata": {},
   "source": [
    "[Arrays](#arrays)\n",
    "<a id='arrays_rev'></a>\n",
    "\n",
    "[Linked Lists](#linked_lists)\n",
    "<a id='linked_lists_rev'></a>\n",
    "\n",
    "[Stacks](#stacks)\n",
    "<a id='stacks_rev'></a>\n",
    "\n",
    "[Queues](#queues)\n",
    "<a id='queues_rev'></a>\n",
    "\n",
    "[Hash - (sets, maps, tables)](#hash)\n",
    "<a id='hash_rev'></a>\n",
    "\n",
    "[Tree](#tree)\n",
    "<a id='tree_rev'></a>\n",
    "\n",
    "[Heaps](#heaps)\n",
    "<a id='heaps_rev'></a>\n",
    "\n",
    "[Graphs](#graphs)\n",
    "<a id='graphs_rev'></a>\n",
    "\n",
    "[](#)\n",
    "\n",
    "\n",
    "\n",
    "\n",
    "<a id=''></a>\n",
    "<a id=''></a>\n",
    "<a id=''></a>\n",
    "<a id=''></a>\n",
    "<a id=''></a>"
   ]
  },
  {
   "cell_type": "code",
   "execution_count": null,
   "id": "e006bbff-d1a5-42e9-b59c-4993e5e661e4",
   "metadata": {},
   "outputs": [],
   "source": []
  },
  {
   "cell_type": "markdown",
   "id": "54b5c4dc-68b8-4fba-9a30-07e026442c73",
   "metadata": {},
   "source": [
    "<a id='arrays'></a>\n",
    "[Arrays](#arrays_rev)\n",
    "\n"
   ]
  },
  {
   "cell_type": "code",
   "execution_count": null,
   "id": "8c3e30d0-f7fc-4bed-a86f-a078b8f659b6",
   "metadata": {},
   "outputs": [],
   "source": []
  },
  {
   "cell_type": "code",
   "execution_count": null,
   "id": "2ee42c1c-c06e-460d-903e-f227c1a1421d",
   "metadata": {},
   "outputs": [],
   "source": []
  },
  {
   "cell_type": "code",
   "execution_count": null,
   "id": "840ea566-11a4-4a5b-b003-59dc553d1731",
   "metadata": {},
   "outputs": [],
   "source": []
  },
  {
   "cell_type": "code",
   "execution_count": null,
   "id": "96d98478-7b40-4b0d-96e7-df7ea24afda7",
   "metadata": {},
   "outputs": [],
   "source": []
  },
  {
   "cell_type": "markdown",
   "id": "23753b78-1bd9-4ec9-aadb-afc07937dbc1",
   "metadata": {},
   "source": [
    "<a id='linked_lists'></a>\n",
    "[Linked Lists](#linked_lists_rev)\n",
    "\n"
   ]
  },
  {
   "cell_type": "code",
   "execution_count": null,
   "id": "208c0f97-ca8d-468c-a961-92d425a3344a",
   "metadata": {},
   "outputs": [],
   "source": []
  },
  {
   "cell_type": "code",
   "execution_count": null,
   "id": "a39e6bd7-faf4-430d-9c04-0773a9cd979e",
   "metadata": {},
   "outputs": [],
   "source": []
  },
  {
   "cell_type": "code",
   "execution_count": null,
   "id": "fd723076-ab3d-4a9b-9763-b9e2fc3a294d",
   "metadata": {},
   "outputs": [],
   "source": []
  },
  {
   "cell_type": "markdown",
   "id": "a53a5ff1-ae34-47dc-9d71-2c221221dc69",
   "metadata": {},
   "source": [
    "\n",
    "<a id='stacks'></a>\n",
    "[Stacks](#stacks_rev)\n"
   ]
  },
  {
   "cell_type": "code",
   "execution_count": null,
   "id": "742e7b9e-6652-4f0b-a006-00e0ecc6d6ea",
   "metadata": {},
   "outputs": [],
   "source": []
  },
  {
   "cell_type": "code",
   "execution_count": null,
   "id": "9b285e3e-a9f0-4050-8d11-69f0e3af6644",
   "metadata": {},
   "outputs": [],
   "source": []
  },
  {
   "cell_type": "code",
   "execution_count": null,
   "id": "b946fe20-641e-41d5-bf3f-e3208c597ddf",
   "metadata": {},
   "outputs": [],
   "source": []
  },
  {
   "cell_type": "markdown",
   "id": "9a7895ad-eb9e-4f93-8c05-5d9e8dbab44c",
   "metadata": {},
   "source": [
    "\n",
    "<a id='queues'></a>\n",
    "[Queues](#queues_rev)\n"
   ]
  },
  {
   "cell_type": "code",
   "execution_count": null,
   "id": "fd40d878-2f4a-4768-9332-7322bc60e215",
   "metadata": {},
   "outputs": [],
   "source": []
  },
  {
   "cell_type": "code",
   "execution_count": null,
   "id": "ef3fc166-969c-4a68-bd3c-9f60e8d8e908",
   "metadata": {},
   "outputs": [],
   "source": []
  },
  {
   "cell_type": "code",
   "execution_count": null,
   "id": "ec0c7448-83f6-4c95-bf4e-eb70c214a5e2",
   "metadata": {},
   "outputs": [],
   "source": []
  },
  {
   "cell_type": "code",
   "execution_count": null,
   "id": "e6d32474-2681-4a96-bd8b-a3f88d5b10cb",
   "metadata": {},
   "outputs": [],
   "source": []
  },
  {
   "cell_type": "code",
   "execution_count": null,
   "id": "68840d08-856e-40bb-99db-01b6bff0e865",
   "metadata": {},
   "outputs": [],
   "source": []
  },
  {
   "cell_type": "code",
   "execution_count": null,
   "id": "7a195282-25db-4d2b-a6a3-094403faf30a",
   "metadata": {},
   "outputs": [],
   "source": []
  },
  {
   "cell_type": "markdown",
   "id": "08967b6d-9b64-4866-8246-b15f4db63322",
   "metadata": {},
   "source": [
    "<a id='hash'></a>\n",
    "[Hash - (sets, maps, tables)](#hash_rev)\n"
   ]
  },
  {
   "cell_type": "code",
   "execution_count": null,
   "id": "32fa83d4-10e4-4cc2-b969-66a62f56b2f4",
   "metadata": {},
   "outputs": [],
   "source": []
  },
  {
   "cell_type": "code",
   "execution_count": null,
   "id": "0d10cf8d-7cc0-4376-b822-23a2d2f8288a",
   "metadata": {},
   "outputs": [],
   "source": []
  },
  {
   "cell_type": "code",
   "execution_count": null,
   "id": "fbb268a2-a212-4916-a2f6-ef75deb388b4",
   "metadata": {},
   "outputs": [],
   "source": []
  },
  {
   "cell_type": "code",
   "execution_count": null,
   "id": "1ad20c90-d7cf-42db-bb45-278c3df646b7",
   "metadata": {},
   "outputs": [],
   "source": []
  },
  {
   "cell_type": "code",
   "execution_count": null,
   "id": "86a03848-1fed-4d51-9622-9881043089d1",
   "metadata": {},
   "outputs": [],
   "source": []
  },
  {
   "cell_type": "markdown",
   "id": "b3d6010b-7784-4a30-b93c-81eeb7f9d64d",
   "metadata": {},
   "source": [
    "\n",
    "<a id='tree'></a>\n",
    "[Tree](#tree_rev)\n"
   ]
  },
  {
   "cell_type": "code",
   "execution_count": null,
   "id": "637840f1-ce5a-4b6f-b752-bef8751d8d05",
   "metadata": {},
   "outputs": [],
   "source": []
  },
  {
   "cell_type": "code",
   "execution_count": null,
   "id": "695704ec-c681-4b13-9b97-55219da2ce63",
   "metadata": {},
   "outputs": [],
   "source": []
  },
  {
   "cell_type": "code",
   "execution_count": null,
   "id": "63b1cab2-2d27-4f19-af5f-af4d1e93db61",
   "metadata": {},
   "outputs": [],
   "source": []
  },
  {
   "cell_type": "code",
   "execution_count": null,
   "id": "4f14283e-7a93-43c0-a220-57be2f954c45",
   "metadata": {},
   "outputs": [],
   "source": []
  },
  {
   "cell_type": "code",
   "execution_count": null,
   "id": "f827b306-1912-4f2b-90d5-625ad4ce6b26",
   "metadata": {},
   "outputs": [],
   "source": []
  },
  {
   "cell_type": "markdown",
   "id": "46a4d73c-7ec3-44a1-b522-5a3c0098b48c",
   "metadata": {},
   "source": [
    "\n",
    "\n",
    "\n",
    "<a id='heaps'></a>\n",
    "[Heaps](#heaps_rev)\n"
   ]
  },
  {
   "cell_type": "code",
   "execution_count": null,
   "id": "14254944-128b-4028-a16a-7b3f995f3a0a",
   "metadata": {},
   "outputs": [],
   "source": []
  },
  {
   "cell_type": "code",
   "execution_count": null,
   "id": "b1fb0fb2-6459-4814-bcbe-4ad273e3888f",
   "metadata": {},
   "outputs": [],
   "source": []
  },
  {
   "cell_type": "code",
   "execution_count": null,
   "id": "9e41dadb-e856-40b2-954c-beed87a850db",
   "metadata": {},
   "outputs": [],
   "source": []
  },
  {
   "cell_type": "markdown",
   "id": "69ea162f-18cd-4369-b3a1-7a8400c48217",
   "metadata": {},
   "source": [
    "\n",
    "\n",
    "<a id='graphs'></a>\n",
    "[Graphs](#graphs_rev)\n"
   ]
  },
  {
   "cell_type": "code",
   "execution_count": null,
   "id": "8aa29cb4-6117-4cca-8001-eedfaa110e02",
   "metadata": {},
   "outputs": [],
   "source": []
  },
  {
   "cell_type": "code",
   "execution_count": null,
   "id": "c754a2cc-c3af-4bb5-a0ab-3406e1a963f0",
   "metadata": {},
   "outputs": [],
   "source": []
  },
  {
   "cell_type": "code",
   "execution_count": null,
   "id": "ef6b2a44-8ae3-4793-8b45-b80894b6afd5",
   "metadata": {},
   "outputs": [],
   "source": []
  },
  {
   "cell_type": "code",
   "execution_count": null,
   "id": "21b9ac98-2779-4d46-8b68-80dccfb136c5",
   "metadata": {},
   "outputs": [],
   "source": []
  },
  {
   "cell_type": "code",
   "execution_count": null,
   "id": "2aed79bc-c726-405e-aef4-e90af8cb1252",
   "metadata": {},
   "outputs": [],
   "source": []
  }
 ],
 "metadata": {
  "kernelspec": {
   "display_name": "Python 3 (ipykernel)",
   "language": "python",
   "name": "python3"
  },
  "language_info": {
   "codemirror_mode": {
    "name": "ipython",
    "version": 3
   },
   "file_extension": ".py",
   "mimetype": "text/x-python",
   "name": "python",
   "nbconvert_exporter": "python",
   "pygments_lexer": "ipython3",
   "version": "3.9.13"
  }
 },
 "nbformat": 4,
 "nbformat_minor": 5
}
