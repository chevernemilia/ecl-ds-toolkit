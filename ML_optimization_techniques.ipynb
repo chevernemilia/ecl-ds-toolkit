{
 "cells": [
  {
   "cell_type": "markdown",
   "id": "deb754bf-e18d-4045-afa2-2d8dfec4e470",
   "metadata": {},
   "source": [
    "# ML optmization"
   ]
  },
  {
   "cell_type": "code",
   "execution_count": null,
   "id": "c1fe7407-e528-4af9-89d0-f7c8a3fd4d55",
   "metadata": {},
   "outputs": [],
   "source": [
    "# optinmization is in a seperete file from other MLs due to is aplicability to all models types, this is use to investigate further on any kinds of optimization, \n",
    "# that are common and classic today. \n"
   ]
  },
  {
   "cell_type": "code",
   "execution_count": null,
   "id": "01cc852d-37e5-406b-8df3-a72565047059",
   "metadata": {},
   "outputs": [],
   "source": [
    "# unconstrained continuous optimization:\n",
    "# applied in data science for various tasks such as parameter estimation in machine learning models, feature selection, and hyperparameter tuning. \n",
    "# example:\n",
    "# Suppose you have a dataset an d you want to train a Support Vector Machine (SVM) classifier for a binary classification task. The SVM model has hyperparameters such as the choice of kernel, the regularization parameter (C), and the kernel coefficient (gamma). You want to find the combination of hyperparameters that maximizes the classification accuracy of the model on a validation set.\n",
    "# Choices;  Gradient-based methods like gradient descent or derivative-free optimization methods like genetic algorithms can be used.\n"
   ]
  },
  {
   "cell_type": "code",
   "execution_count": null,
   "id": "48ba2292-ee39-4d34-a926-67300d40f173",
   "metadata": {},
   "outputs": [],
   "source": []
  },
  {
   "cell_type": "code",
   "execution_count": null,
   "id": "2e8497e5-ee79-444d-8aaf-5b80ae0f025c",
   "metadata": {},
   "outputs": [],
   "source": []
  },
  {
   "cell_type": "code",
   "execution_count": null,
   "id": "f7894b67-ac9b-400f-b51b-f2affa04e710",
   "metadata": {},
   "outputs": [],
   "source": []
  },
  {
   "cell_type": "code",
   "execution_count": null,
   "id": "1b2352fc-edbb-4417-b541-4e925006971c",
   "metadata": {},
   "outputs": [],
   "source": []
  },
  {
   "cell_type": "code",
   "execution_count": null,
   "id": "c038c61a-d70f-4539-8c32-6419dfe21b28",
   "metadata": {},
   "outputs": [],
   "source": []
  },
  {
   "cell_type": "code",
   "execution_count": null,
   "id": "b11275be-b2d1-41a8-8da0-cef77c3ade9e",
   "metadata": {},
   "outputs": [],
   "source": []
  }
 ],
 "metadata": {
  "kernelspec": {
   "display_name": "Python 3 (ipykernel)",
   "language": "python",
   "name": "python3"
  },
  "language_info": {
   "codemirror_mode": {
    "name": "ipython",
    "version": 3
   },
   "file_extension": ".py",
   "mimetype": "text/x-python",
   "name": "python",
   "nbconvert_exporter": "python",
   "pygments_lexer": "ipython3",
   "version": "3.9.13"
  }
 },
 "nbformat": 4,
 "nbformat_minor": 5
}
