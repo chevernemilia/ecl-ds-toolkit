{
 "cells": [
  {
   "cell_type": "markdown",
   "id": "fa893a4b-e458-45c5-a945-1608c05e615f",
   "metadata": {},
   "source": [
    "# Data Import Else Where, SQL etc."
   ]
  },
  {
   "cell_type": "code",
   "execution_count": null,
   "id": "e3838dce-c587-4dd2-beb0-b7faecc65807",
   "metadata": {},
   "outputs": [],
   "source": [
    "# this file dedicate to organize for major codes that can be used use to import from external Schemas/host etc syntax\n",
    "# try to see if it can be used to import data and practice sql coding."
   ]
  },
  {
   "cell_type": "code",
   "execution_count": 6,
   "id": "aa58537e-9219-4432-a4a3-d5c705ab2a6a",
   "metadata": {
    "tags": []
   },
   "outputs": [],
   "source": [
    "# from sqlalchemy import create_engine\n",
    "# import sqlalchemy\n",
    "import mysql.connector\n",
    "\n"
   ]
  },
  {
   "cell_type": "code",
   "execution_count": null,
   "id": "6dfc1e1f-7a4d-4adc-be17-2f080aa87910",
   "metadata": {},
   "outputs": [],
   "source": [
    "\n",
    "username = \n",
    "pwd = \n",
    "qhost = \n",
    "qdatabase = \n",
    "\n",
    "# Connect to MySQL server\n",
    "cnx = mysql.connector.connect(user=username, password= pwd,\n",
    "                              host= qhost,\n",
    "                              database= qdatabase )\n",
    "\n",
    "# Create a cursor object\n",
    "cursor = cnx.cursor()\n",
    "\n",
    "# Execute SQL query\n",
    "cursor.execute(\"SELECT * FROM table\")\n",
    "\n",
    "# Fetch results\n",
    "results = cursor.fetchall()\n",
    "\n",
    "# Close cursor and connection\n",
    "cursor.close()\n",
    "cnx.close()\n"
   ]
  },
  {
   "cell_type": "code",
   "execution_count": null,
   "id": "a41cf8b1-e72f-4b28-a2bd-87edad907f60",
   "metadata": {},
   "outputs": [],
   "source": [
    "# Things to study for the itv:\n",
    "\n",
    "\n",
    "mysql: \n",
    "\n",
    "datediff()\n",
    "coalesce(val1, val2_if_val1_is_null)\n",
    "Cross join\n",
    "% (remainder sign)\n",
    "ifnull(col, 0)\n",
    "sum(case when …)\n",
    "date_sub(date_col, interval # day) \n",
    "group_concat(distinct product order by product asc separator ',') \n",
    "left(col, nbr_from_left), right(col, nbr_from_right)\n",
    "regexp()\n",
    "if(condition, “yes”, “no”) as triangle\n",
    "\n",
    "substr(col, star_pos, end_pos)\n",
    "lag() over (partition by … over by …)\n",
    "\n",
    "with uniq_category as (\n",
    "    select 'High Salary' as category\n",
    "    union all \n",
    "    select 'Average Salary'\n",
    "    union all \n",
    "    select 'Low Salary' \n",
    "),\n",
    "\n",
    "COUNT(*) OVER (ORDER BY visited_on ROWS BETWEEN 6 PRECEDING AND CURRENT ROW)\n",
    "round(sum(amount) OVER (ORDER BY visited_on ROWS BETWEEN 6 PRECEDING AND CURRENT ROW),2)\n",
    "\n",
    "         \n",
    "(duration_seconds / SUM(duration_seconds) OVER (PARTITION BY start_terminal)) * 100\n",
    "         \n",
    "round(date_val / (lag(date_val) over () ) *100,2)\n",
    "Limit 1 offset 1 #get the second one from top\n",
    "\n",
    "start_time < '2012-01-08'\n",
    "\n",
    "# both focus on assigning same # to rows with same rank, rank() will have skipped # after in subsequent rank val, while dense_rank() strictly have rank()+1 followed aftter \n",
    "# dense_rank() \n",
    "rank()\n",
    "dense_rank() \n",
    "\n",
    "lag(col, nbr_row_lag)\n",
    "lead(col, nbr_row_lead)\n",
    "     \n",
    "         \n",
    "NTILE(4) OVER\n",
    "(PARTITION BY start_terminal ORDER BY duration_seconds)"
   ]
  },
  {
   "cell_type": "code",
   "execution_count": null,
   "id": "3f24b0a8-a403-4b3f-b9d0-3e9951295bf5",
   "metadata": {},
   "outputs": [],
   "source": []
  },
  {
   "cell_type": "code",
   "execution_count": null,
   "id": "906e4f5c-9327-4b69-b895-b01bced4866b",
   "metadata": {},
   "outputs": [],
   "source": []
  },
  {
   "cell_type": "code",
   "execution_count": null,
   "id": "79ef9fd3-0281-4811-8603-89d8ea9ba63a",
   "metadata": {},
   "outputs": [],
   "source": []
  },
  {
   "cell_type": "code",
   "execution_count": null,
   "id": "e9acc964-8767-4146-a2a4-7a46719fa3dd",
   "metadata": {},
   "outputs": [],
   "source": []
  }
 ],
 "metadata": {
  "kernelspec": {
   "display_name": "Python 3 (ipykernel)",
   "language": "python",
   "name": "python3"
  },
  "language_info": {
   "codemirror_mode": {
    "name": "ipython",
    "version": 3
   },
   "file_extension": ".py",
   "mimetype": "text/x-python",
   "name": "python",
   "nbconvert_exporter": "python",
   "pygments_lexer": "ipython3",
   "version": "3.9.13"
  }
 },
 "nbformat": 4,
 "nbformat_minor": 5
}
