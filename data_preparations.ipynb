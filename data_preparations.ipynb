{
 "cells": [
  {
   "cell_type": "markdown",
   "id": "eff57c9a-6c5a-4515-b0a8-ed6d8122ed92",
   "metadata": {},
   "source": [
    "# Possible Data Preparation Steps"
   ]
  },
  {
   "cell_type": "code",
   "execution_count": 1,
   "id": "54dfd649-058f-43d0-8834-67b060474bf3",
   "metadata": {
    "tags": []
   },
   "outputs": [],
   "source": [
    "import os\n",
    "import sys\n",
    "\n"
   ]
  },
  {
   "cell_type": "code",
   "execution_count": 2,
   "id": "40691bc6-6908-41d4-aeaf-623745de617e",
   "metadata": {
    "tags": []
   },
   "outputs": [],
   "source": [
    "os.chdir('/Users/emilyli/workspace/datasets/')\n",
    "# df = pd.read_csv('customer_segmentation.csv')\n",
    "\n"
   ]
  },
  {
   "cell_type": "markdown",
   "id": "f86d1d27-ed1c-4e83-b84f-93495eab9b27",
   "metadata": {},
   "source": [
    "# Handling Missing Values"
   ]
  },
  {
   "cell_type": "code",
   "execution_count": null,
   "id": "059e0244-2515-47e4-ab35-4b54884c4e7b",
   "metadata": {},
   "outputs": [],
   "source": []
  },
  {
   "cell_type": "code",
   "execution_count": null,
   "id": "aa431442-be9d-4dd5-b856-b4f573af3e58",
   "metadata": {},
   "outputs": [],
   "source": []
  },
  {
   "cell_type": "code",
   "execution_count": null,
   "id": "850c3192-7649-427a-8479-6833d2437b37",
   "metadata": {},
   "outputs": [],
   "source": []
  },
  {
   "cell_type": "code",
   "execution_count": null,
   "id": "750cd21b-0f08-4fbe-a2c6-93758059b1d5",
   "metadata": {},
   "outputs": [],
   "source": []
  },
  {
   "cell_type": "code",
   "execution_count": null,
   "id": "f3223a64-4456-43a6-8ed6-2c1fd5a7455b",
   "metadata": {},
   "outputs": [],
   "source": []
  },
  {
   "cell_type": "markdown",
   "id": "d6ed1d14-fc94-4e7b-8d59-5e4156071b6a",
   "metadata": {},
   "source": [
    "# Scaling / Normalization"
   ]
  },
  {
   "cell_type": "code",
   "execution_count": null,
   "id": "ba28f5a5-f63a-4229-9f11-15d16d61a3cf",
   "metadata": {},
   "outputs": [],
   "source": []
  },
  {
   "cell_type": "code",
   "execution_count": null,
   "id": "d817cef8-0eb6-4e9b-845f-be926c78f9e8",
   "metadata": {},
   "outputs": [],
   "source": []
  },
  {
   "cell_type": "code",
   "execution_count": null,
   "id": "57356d92-703b-4e53-a0a1-266b59d0017b",
   "metadata": {},
   "outputs": [],
   "source": []
  },
  {
   "cell_type": "markdown",
   "id": "24a4a5a4-8ab1-4a13-9e2d-7a73fc6cd3b4",
   "metadata": {},
   "source": [
    "# Outlier Detection & Removal"
   ]
  },
  {
   "cell_type": "code",
   "execution_count": null,
   "id": "65b26bc1-0eec-44ed-a4bd-9e750edb2543",
   "metadata": {},
   "outputs": [],
   "source": []
  },
  {
   "cell_type": "code",
   "execution_count": null,
   "id": "334ef4e5-e7b3-4651-9f76-2ae9a259ae4e",
   "metadata": {},
   "outputs": [],
   "source": []
  },
  {
   "cell_type": "code",
   "execution_count": null,
   "id": "18d7235a-cd31-4de2-af9f-121f5b044adc",
   "metadata": {},
   "outputs": [],
   "source": []
  },
  {
   "cell_type": "markdown",
   "id": "6be4a5b0-b418-4750-9d94-5104d1986c16",
   "metadata": {},
   "source": [
    "# Feature Selection: PCA etc"
   ]
  },
  {
   "cell_type": "code",
   "execution_count": null,
   "id": "0df07644-72e3-45db-81dc-8bc7095b13f2",
   "metadata": {},
   "outputs": [],
   "source": []
  },
  {
   "cell_type": "code",
   "execution_count": null,
   "id": "86900377-ec44-4244-b147-ab527adc22df",
   "metadata": {},
   "outputs": [],
   "source": []
  },
  {
   "cell_type": "code",
   "execution_count": null,
   "id": "8379420b-96e4-4d00-a3c6-a76ce990a189",
   "metadata": {},
   "outputs": [],
   "source": []
  },
  {
   "cell_type": "code",
   "execution_count": null,
   "id": "69774795-f336-427d-947a-da9384c154d7",
   "metadata": {},
   "outputs": [],
   "source": []
  },
  {
   "cell_type": "code",
   "execution_count": null,
   "id": "0c116940-791f-48ef-b8c9-b0f822d9d598",
   "metadata": {},
   "outputs": [],
   "source": []
  }
 ],
 "metadata": {
  "kernelspec": {
   "display_name": "Python 3 (ipykernel)",
   "language": "python",
   "name": "python3"
  },
  "language_info": {
   "codemirror_mode": {
    "name": "ipython",
    "version": 3
   },
   "file_extension": ".py",
   "mimetype": "text/x-python",
   "name": "python",
   "nbconvert_exporter": "python",
   "pygments_lexer": "ipython3",
   "version": "3.9.13"
  }
 },
 "nbformat": 4,
 "nbformat_minor": 5
}
