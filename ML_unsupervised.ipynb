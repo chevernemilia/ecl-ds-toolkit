{
 "cells": [
  {
   "cell_type": "markdown",
   "id": "e8e159cf-c126-41a0-83ff-7a8d6b3cc228",
   "metadata": {},
   "source": [
    "# Unsupervised ML"
   ]
  },
  {
   "cell_type": "code",
   "execution_count": null,
   "id": "cb850877-0135-49f6-babb-f8a35a36fb2a",
   "metadata": {},
   "outputs": [],
   "source": [
    "# ML Typese: Association Rules, Clustering w/ Kmean, Other Clusterings, NN, rercommeendation system?"
   ]
  },
  {
   "cell_type": "code",
   "execution_count": null,
   "id": "8e4912a3-0e63-48e9-9cbb-d3b1ddf12ffa",
   "metadata": {},
   "outputs": [],
   "source": []
  },
  {
   "cell_type": "code",
   "execution_count": null,
   "id": "2291cc5e-2c82-4184-9864-7075e2866a06",
   "metadata": {},
   "outputs": [],
   "source": []
  },
  {
   "cell_type": "markdown",
   "id": "9ff022ab-d286-4c16-9c34-0b939ab4cbde",
   "metadata": {},
   "source": [
    "# Assocciation Rules"
   ]
  },
  {
   "cell_type": "code",
   "execution_count": null,
   "id": "6a33f9b5-4e26-4fa9-8e7f-6705249fbd40",
   "metadata": {},
   "outputs": [],
   "source": []
  },
  {
   "cell_type": "code",
   "execution_count": null,
   "id": "fa22f7c6-9f77-432d-abab-f846a5066787",
   "metadata": {},
   "outputs": [],
   "source": []
  },
  {
   "cell_type": "code",
   "execution_count": null,
   "id": "940c2a9d-afba-4307-b549-7bc0f647414f",
   "metadata": {},
   "outputs": [],
   "source": []
  },
  {
   "cell_type": "code",
   "execution_count": null,
   "id": "54f9d14e-bd6e-4ad5-b380-d05e1efef245",
   "metadata": {},
   "outputs": [],
   "source": []
  },
  {
   "cell_type": "markdown",
   "id": "bb0776e9-7ae1-4c07-b376-dbb4fbe4b41c",
   "metadata": {},
   "source": [
    "# Clustering w/ KMean"
   ]
  },
  {
   "cell_type": "code",
   "execution_count": null,
   "id": "861ba112-b0f6-4795-ab8c-74cd522f490b",
   "metadata": {},
   "outputs": [],
   "source": []
  },
  {
   "cell_type": "code",
   "execution_count": null,
   "id": "bbce5e9e-2570-4843-9d52-41e02002529c",
   "metadata": {},
   "outputs": [],
   "source": []
  },
  {
   "cell_type": "code",
   "execution_count": null,
   "id": "b442b7f1-2aec-45f5-89c3-67973b8f14be",
   "metadata": {},
   "outputs": [],
   "source": []
  },
  {
   "cell_type": "code",
   "execution_count": null,
   "id": "210e5835-f6af-4434-92f1-e5fa61d546b4",
   "metadata": {},
   "outputs": [],
   "source": []
  },
  {
   "cell_type": "markdown",
   "id": "c891bd52-3ad0-4fa6-99c1-c5b571ee0ebe",
   "metadata": {},
   "source": [
    "# Recommendation System"
   ]
  },
  {
   "cell_type": "code",
   "execution_count": null,
   "id": "10709d82-1328-4249-8106-027dc4a2bcd7",
   "metadata": {},
   "outputs": [],
   "source": []
  },
  {
   "cell_type": "code",
   "execution_count": null,
   "id": "12419f33-a59d-42e8-968b-d4642f891d38",
   "metadata": {},
   "outputs": [],
   "source": []
  },
  {
   "cell_type": "code",
   "execution_count": null,
   "id": "9be8b846-cfe6-47b1-93f9-6d88eef75e15",
   "metadata": {},
   "outputs": [],
   "source": []
  },
  {
   "cell_type": "code",
   "execution_count": null,
   "id": "11c37749-98f5-4d4b-9617-2b3a570e1af9",
   "metadata": {},
   "outputs": [],
   "source": []
  },
  {
   "cell_type": "markdown",
   "id": "f2ed14bd-b063-400e-8e47-4290c632821d",
   "metadata": {},
   "source": [
    "# Neural Network"
   ]
  },
  {
   "cell_type": "markdown",
   "id": "6b785c50-2d6a-4870-b0bc-eb14bb567be3",
   "metadata": {},
   "source": []
  },
  {
   "cell_type": "code",
   "execution_count": null,
   "id": "f0a080ae-b0ad-40ef-958a-c6a0308c1f09",
   "metadata": {},
   "outputs": [],
   "source": []
  },
  {
   "cell_type": "code",
   "execution_count": null,
   "id": "c07e9952-b452-4c49-95ec-e695ab6ed218",
   "metadata": {},
   "outputs": [],
   "source": []
  },
  {
   "cell_type": "code",
   "execution_count": null,
   "id": "2d129431-654b-42db-8139-0eff2bb3172e",
   "metadata": {},
   "outputs": [],
   "source": []
  },
  {
   "cell_type": "code",
   "execution_count": null,
   "id": "eca2fe6d-996d-4dae-9413-e85b66d086a3",
   "metadata": {},
   "outputs": [],
   "source": []
  },
  {
   "cell_type": "code",
   "execution_count": null,
   "id": "474d7b79-0070-4f30-a22a-c7dd40e7e959",
   "metadata": {},
   "outputs": [],
   "source": []
  },
  {
   "cell_type": "code",
   "execution_count": null,
   "id": "6a549cb0-142d-4750-be37-2228b40ddf1f",
   "metadata": {},
   "outputs": [],
   "source": []
  },
  {
   "cell_type": "code",
   "execution_count": null,
   "id": "9eb961b8-5040-4813-b86d-1a3e7adebf41",
   "metadata": {},
   "outputs": [],
   "source": []
  },
  {
   "cell_type": "code",
   "execution_count": null,
   "id": "10125170-8be6-403c-82b5-2da40aecc49c",
   "metadata": {},
   "outputs": [],
   "source": []
  },
  {
   "cell_type": "code",
   "execution_count": null,
   "id": "55b4a2d9-a33f-4a55-947e-e46a5c499932",
   "metadata": {},
   "outputs": [],
   "source": []
  },
  {
   "cell_type": "code",
   "execution_count": null,
   "id": "4e98c96f-5ea8-459f-9052-0ab4c8a2cb19",
   "metadata": {},
   "outputs": [],
   "source": []
  }
 ],
 "metadata": {
  "kernelspec": {
   "display_name": "Python 3 (ipykernel)",
   "language": "python",
   "name": "python3"
  },
  "language_info": {
   "codemirror_mode": {
    "name": "ipython",
    "version": 3
   },
   "file_extension": ".py",
   "mimetype": "text/x-python",
   "name": "python",
   "nbconvert_exporter": "python",
   "pygments_lexer": "ipython3",
   "version": "3.9.13"
  }
 },
 "nbformat": 4,
 "nbformat_minor": 5
}
