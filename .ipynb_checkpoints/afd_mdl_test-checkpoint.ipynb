{
 "cells": [
  {
   "cell_type": "markdown",
   "id": "ac108d19-2148-45b5-8d1e-6ce2a942d2a1",
   "metadata": {},
   "source": [
    "# Using AWS SDK To Make Prediction on Unseen Data with AWS Amazon Fraud Detector \n",
    "## (Demo Samples)"
   ]
  },
  {
   "cell_type": "code",
   "execution_count": null,
   "id": "69069f8f-486b-44af-9ee1-6982dad38d0b",
   "metadata": {},
   "outputs": [],
   "source": [
    "import boto3\n",
    "\n",
    "# Initialize the Amazon Fraud Detector client\n",
    "client = boto3.client('afd_ofi_reg_min_detector', region_name='N.Virginia')\n"
   ]
  },
  {
   "cell_type": "code",
   "execution_count": null,
   "id": "0422cdd2-9f9c-4acb-94b0-70c5cea9c4a2",
   "metadata": {},
   "outputs": [],
   "source": [
    "import pandas as pd\n",
    "\n",
    "test_data = 'reg_20k_min_test_events.csv'\n",
    "# Load test dataset into a Pandas DataFrame\n",
    "test_df = pd.read_csv(test_data)\n"
   ]
  },
  {
   "cell_type": "code",
   "execution_count": null,
   "id": "a8baddfb-72f4-490b-bcb0-8ef12cbedfb0",
   "metadata": {},
   "outputs": [],
   "source": [
    "# Iterate through each row in the test dataset\n",
    "for index, row in test_df.iterrows():\n",
    "    # Prepare the input data for the model\n",
    "    event_id = row['event_id']\n",
    "    event_timestamp = row['event_timestamp']\n",
    "    event_variables = {\n",
    "        'ip_address': str(row['ip_address']),\n",
    "        'email_address': str(row['email_address']),\n",
    "        # Add more variables as needed\n",
    "    }\n",
    "    \n",
    "    # Invoke the model to get predictions\n",
    "    response = client.get_event_prediction(\n",
    "        detectorId='arn:aws:frauddetector:us-east-1:733728738543:detector/afd_ofi_reg_min_detector',\n",
    "        eventId=event_id,\n",
    "        eventTimestamp=event_timestamp,\n",
    "        eventTypeName='registration_customer',\n",
    "        entities=[{'entityType': 'registration_customer', 'entityId': '1:733728738543'}],\n",
    "        eventVariables=event_variables\n",
    "    )\n",
    "    \n",
    "    # Extract prediction from the response\n",
    "    prediction = response['modelScores'][0]['scores']['afd_ofi_reg_min']\n",
    "    print(f\"Prediction for event {event_id}: {prediction}\")\n"
   ]
  },
  {
   "cell_type": "code",
   "execution_count": null,
   "id": "f7f6b6af-4d1c-4baa-9ea3-da0768f85cff",
   "metadata": {},
   "outputs": [],
   "source": []
  },
  {
   "cell_type": "code",
   "execution_count": null,
   "id": "e1aa7c10-b2c4-4e97-8485-1619fae84db6",
   "metadata": {},
   "outputs": [],
   "source": []
  },
  {
   "cell_type": "code",
   "execution_count": null,
   "id": "0fbab407-5fcb-4cfe-96ea-e5d6da553771",
   "metadata": {},
   "outputs": [],
   "source": []
  }
 ],
 "metadata": {
  "kernelspec": {
   "display_name": "Python 3 (ipykernel)",
   "language": "python",
   "name": "python3"
  },
  "language_info": {
   "codemirror_mode": {
    "name": "ipython",
    "version": 3
   },
   "file_extension": ".py",
   "mimetype": "text/x-python",
   "name": "python",
   "nbconvert_exporter": "python",
   "pygments_lexer": "ipython3",
   "version": "3.9.13"
  }
 },
 "nbformat": 4,
 "nbformat_minor": 5
}
