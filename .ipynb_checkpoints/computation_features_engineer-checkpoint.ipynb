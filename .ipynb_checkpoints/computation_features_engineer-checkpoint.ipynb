{
 "cells": [
  {
   "cell_type": "markdown",
   "id": "766e4159-809b-4553-b146-02bfe2414600",
   "metadata": {},
   "source": [
    "# computation & Feature Engineerinng"
   ]
  },
  {
   "cell_type": "code",
   "execution_count": 5,
   "id": "46b2c807-b4e2-40af-a728-b8e826a4b8d2",
   "metadata": {
    "tags": []
   },
   "outputs": [],
   "source": [
    "from scipy import stats\n",
    "import numpy as np\n",
    "import statistics\n",
    "import os\n",
    "import pandas as pd\n"
   ]
  },
  {
   "cell_type": "code",
   "execution_count": 12,
   "id": "e1534575-93ca-4f02-91d4-c29ee56c8b2a",
   "metadata": {
    "tags": []
   },
   "outputs": [],
   "source": [
    "arr = [23, 45, 12, 78, 56, 34, 90, 21, 67, 89,\n",
    "                   43, 76, 32,3,5,7,2,3,4,5,2,5,6, 54, 87, 65, 98, 10, 55, 20,\n",
    "                   88, 77, 44, 11, 33, 66, 99, 22, 57, 80]\n",
    "\n"
   ]
  },
  {
   "cell_type": "code",
   "execution_count": 33,
   "id": "a62f2472-349b-458c-b026-fc78b494c94a",
   "metadata": {
    "tags": []
   },
   "outputs": [],
   "source": [
    "mode = stats.mode(arr, axis=None, keepdims=True)\n",
    "mean = np.mean(arr)\n",
    "# np.average(arr)\n",
    "median = np.median(arr)\n",
    "minimum = min(arr)\n",
    "maximum = max(arr)\n",
    "the_range = (maximum - minimum)\n",
    "variance = np.var(arr)\n",
    "std_deviation = np.std(arr)\n",
    "# statistics.variance(arr)\n",
    "# statistics.stdev(arr)"
   ]
  },
  {
   "cell_type": "code",
   "execution_count": 6,
   "id": "ce72a8b9-1a11-4bc6-8c48-ef19f3e244a2",
   "metadata": {
    "tags": []
   },
   "outputs": [],
   "source": [
    "os.chdir('/Users/emilyli/workspace/datasets/')\n",
    "\n",
    "df= pd.read_csv(\"Iris.csv\")\n",
    "df.columns = df.columns.str.lower()"
   ]
  },
  {
   "cell_type": "code",
   "execution_count": 15,
   "id": "f77c609b-65ee-4025-83a3-3d33259125e0",
   "metadata": {
    "tags": []
   },
   "outputs": [],
   "source": [
    "os.chdir('/Users/emilyli/workspace/datasets/airbnb_market_analysis_and_real_estate_sales_data')\n",
    "df2 = pd.read_csv('market_analysis_2019.csv', sep = ';')\n",
    "df3 = pd.read_csv('market_analysis.csv', sep = ';')\n",
    "df4 = pd.read_csv('amenities.csv', sep = ';')\n",
    "\n",
    "df_joint = pd.concat([df2,df3],ignore_index = True, axis = 0)\n",
    "df_joint['month'] = pd.to_datetime(df_joint['month'])\n",
    "df4['month'] = pd.to_datetime(df4['month'])\n",
    "\n",
    "df_joint['ym'] = df_joint['month'].dt.strftime('%Y-%m')\n",
    "df_joint['yr'] = df_joint['month'].dt.year\n",
    "df_joint['mo'] = df_joint['month'].dt.month"
   ]
  },
  {
   "cell_type": "code",
   "execution_count": 23,
   "id": "d1268e53-fd08-4f20-b79e-d35be26c61b1",
   "metadata": {},
   "outputs": [
    {
     "data": {
      "text/plain": [
       "Index(['month'], dtype='object')"
      ]
     },
     "execution_count": 23,
     "metadata": {},
     "output_type": "execute_result"
    }
   ],
   "source": [
    "# subset df w/ numerical col\n",
    "df_num = df.select_dtypes(include=['number'])\n",
    "# all numerical col in df\n",
    "numerical_columns = df.select_dtypes(include=['number']).columns\n",
    "numerical_columns\n",
    "\n",
    "# subset df w/ categorical col\n",
    "df_cat = df.select_dtypes(include=['object'])\n",
    "# all categorical col in df\n",
    "categorical_columns = df.select_dtypes(include=['object']).columns\n",
    "categorical_columns\n",
    "\n",
    "# subset df w/ date col\n",
    "df_dt = df_joint.select_dtypes(include=['datetime64'])\n",
    "# all date col in df\n",
    "date_columns = df_joint.select_dtypes(include=['datetime64']).columns\n",
    "date_columns\n",
    "\n",
    "# merge sub-df top to bottom rbind, same col name\n",
    "df_joint = pd.concat([df2,df3],ignore_index = True, axis = 0)\n",
    "df_joint['month'] = pd.to_datetime(df_joint['month'])\n",
    "\n",
    "# get dt in ym\n",
    "df_joint['ym'] = df_joint['month'].dt.strftime('%Y-%m')\n",
    "# get dt in yr\n",
    "df_joint['yr'] = df_joint['month'].dt.year\n",
    "# get dt in mo\n",
    "df_joint['mo'] = df_joint['month'].dt.month"
   ]
  },
  {
   "cell_type": "code",
   "execution_count": null,
   "id": "d10fea56-5b55-45a6-9763-bba1007c05f9",
   "metadata": {},
   "outputs": [],
   "source": []
  },
  {
   "cell_type": "code",
   "execution_count": null,
   "id": "ca8d0a96-4ff6-4480-9020-44c13697c656",
   "metadata": {},
   "outputs": [],
   "source": []
  },
  {
   "cell_type": "code",
   "execution_count": null,
   "id": "3e216f6c-2a27-448a-adff-37996c07e20a",
   "metadata": {},
   "outputs": [],
   "source": []
  },
  {
   "cell_type": "code",
   "execution_count": null,
   "id": "c5ddcb52-e35d-4403-a30c-8d7125f37834",
   "metadata": {},
   "outputs": [],
   "source": []
  },
  {
   "cell_type": "code",
   "execution_count": null,
   "id": "edccd954-9cef-4046-95e3-1d34952d940e",
   "metadata": {},
   "outputs": [],
   "source": []
  },
  {
   "cell_type": "code",
   "execution_count": null,
   "id": "aa0640a5-8b14-4145-9dce-025e34c3199a",
   "metadata": {},
   "outputs": [],
   "source": []
  },
  {
   "cell_type": "code",
   "execution_count": null,
   "id": "c94890d2-0081-4fe7-841b-2a70e8bb3851",
   "metadata": {},
   "outputs": [],
   "source": []
  }
 ],
 "metadata": {
  "kernelspec": {
   "display_name": "Python 3 (ipykernel)",
   "language": "python",
   "name": "python3"
  },
  "language_info": {
   "codemirror_mode": {
    "name": "ipython",
    "version": 3
   },
   "file_extension": ".py",
   "mimetype": "text/x-python",
   "name": "python",
   "nbconvert_exporter": "python",
   "pygments_lexer": "ipython3",
   "version": "3.9.13"
  }
 },
 "nbformat": 4,
 "nbformat_minor": 5
}
