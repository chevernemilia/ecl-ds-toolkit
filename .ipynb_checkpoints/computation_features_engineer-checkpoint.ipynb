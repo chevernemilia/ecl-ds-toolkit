{
 "cells": [
  {
   "cell_type": "markdown",
   "id": "766e4159-809b-4553-b146-02bfe2414600",
   "metadata": {},
   "source": [
    "# computation & Feature Engineerinng"
   ]
  },
  {
   "cell_type": "code",
   "execution_count": 36,
   "id": "46b2c807-b4e2-40af-a728-b8e826a4b8d2",
   "metadata": {
    "tags": []
   },
   "outputs": [],
   "source": [
    "from scipy import stats\n",
    "import numpy as np\n",
    "import statistics\n",
    "\n"
   ]
  },
  {
   "cell_type": "code",
   "execution_count": 12,
   "id": "e1534575-93ca-4f02-91d4-c29ee56c8b2a",
   "metadata": {
    "tags": []
   },
   "outputs": [],
   "source": [
    "arr = [23, 45, 12, 78, 56, 34, 90, 21, 67, 89,\n",
    "                   43, 76, 32,3,5,7,2,3,4,5,2,5,6, 54, 87, 65, 98, 10, 55, 20,\n",
    "                   88, 77, 44, 11, 33, 66, 99, 22, 57, 80]\n",
    "\n"
   ]
  },
  {
   "cell_type": "code",
   "execution_count": 33,
   "id": "a62f2472-349b-458c-b026-fc78b494c94a",
   "metadata": {
    "tags": []
   },
   "outputs": [],
   "source": [
    "mode = stats.mode(arr, axis=None, keepdims=True)\n",
    "mean = np.mean(arr)\n",
    "# np.average(arr)\n",
    "median = np.median(arr)\n",
    "minimum = min(arr)\n",
    "maximum = max(arr)\n",
    "the_range = (maximum - minimum)\n",
    "variance = np.var(arr)\n",
    "std_deviation = np.std(arr)\n",
    "# statistics.variance(arr)\n",
    "# statistics.stdev(arr)"
   ]
  },
  {
   "cell_type": "code",
   "execution_count": 27,
   "id": "e5b45d0e-537e-408e-a29b-b1f37c1943b7",
   "metadata": {
    "tags": []
   },
   "outputs": [
    {
     "data": {
      "text/plain": [
       "41.85"
      ]
     },
     "execution_count": 27,
     "metadata": {},
     "output_type": "execute_result"
    }
   ],
   "source": [
    "mean"
   ]
  },
  {
   "cell_type": "code",
   "execution_count": 28,
   "id": "f9638e34-5c43-4d1d-a531-9657b6f59a4a",
   "metadata": {
    "tags": []
   },
   "outputs": [
    {
     "data": {
      "text/plain": [
       "ModeResult(mode=array([5]), count=array([3]))"
      ]
     },
     "execution_count": 28,
     "metadata": {},
     "output_type": "execute_result"
    }
   ],
   "source": [
    "mode"
   ]
  },
  {
   "cell_type": "code",
   "execution_count": 29,
   "id": "f7852b25-1855-45f3-a387-30b699fcb93b",
   "metadata": {
    "tags": []
   },
   "outputs": [
    {
     "data": {
      "text/plain": [
       "38.5"
      ]
     },
     "execution_count": 29,
     "metadata": {},
     "output_type": "execute_result"
    }
   ],
   "source": [
    "median"
   ]
  },
  {
   "cell_type": "code",
   "execution_count": 30,
   "id": "fe81252c-41f2-4e4d-ac19-5ead5879c570",
   "metadata": {
    "tags": []
   },
   "outputs": [
    {
     "data": {
      "text/plain": [
       "2"
      ]
     },
     "execution_count": 30,
     "metadata": {},
     "output_type": "execute_result"
    }
   ],
   "source": [
    "min(arr)"
   ]
  },
  {
   "cell_type": "code",
   "execution_count": 31,
   "id": "d5b4cdf9-d7d4-4261-bea5-203dd7d46b49",
   "metadata": {
    "tags": []
   },
   "outputs": [
    {
     "data": {
      "text/plain": [
       "99"
      ]
     },
     "execution_count": 31,
     "metadata": {},
     "output_type": "execute_result"
    }
   ],
   "source": [
    "max(arr)"
   ]
  },
  {
   "cell_type": "code",
   "execution_count": 32,
   "id": "907a7292-49b8-4fc1-98ef-d92ab1318b26",
   "metadata": {
    "tags": []
   },
   "outputs": [
    {
     "data": {
      "text/plain": [
       "97"
      ]
     },
     "execution_count": 32,
     "metadata": {},
     "output_type": "execute_result"
    }
   ],
   "source": [
    "the_range"
   ]
  },
  {
   "cell_type": "code",
   "execution_count": 34,
   "id": "92ed02e1-c366-4254-b88b-2beddfd8ecc3",
   "metadata": {
    "tags": []
   },
   "outputs": [
    {
     "data": {
      "text/plain": [
       "1044.1775"
      ]
     },
     "execution_count": 34,
     "metadata": {},
     "output_type": "execute_result"
    }
   ],
   "source": [
    "variance"
   ]
  },
  {
   "cell_type": "code",
   "execution_count": 35,
   "id": "b1278f59-7d2c-4f89-b63b-d77fd71a174b",
   "metadata": {
    "tags": []
   },
   "outputs": [
    {
     "data": {
      "text/plain": [
       "32.31373546961106"
      ]
     },
     "execution_count": 35,
     "metadata": {},
     "output_type": "execute_result"
    }
   ],
   "source": [
    "std_deviation"
   ]
  },
  {
   "cell_type": "code",
   "execution_count": 37,
   "id": "0cfb352e-4a92-462e-9ad2-86e6a024784a",
   "metadata": {
    "tags": []
   },
   "outputs": [
    {
     "data": {
      "text/plain": [
       "1070.951282051282"
      ]
     },
     "execution_count": 37,
     "metadata": {},
     "output_type": "execute_result"
    }
   ],
   "source": [
    "statistics.variance(arr)"
   ]
  },
  {
   "cell_type": "code",
   "execution_count": 39,
   "id": "2b113398-2607-4b85-b0b4-bf0339c48e74",
   "metadata": {
    "tags": []
   },
   "outputs": [
    {
     "data": {
      "text/plain": [
       "32.725392007602935"
      ]
     },
     "execution_count": 39,
     "metadata": {},
     "output_type": "execute_result"
    }
   ],
   "source": []
  },
  {
   "cell_type": "code",
   "execution_count": 40,
   "id": "fafb160c-e7f8-4267-a10e-571ff3bed30d",
   "metadata": {
    "tags": []
   },
   "outputs": [],
   "source": [
    "mean = np.mean(arr)"
   ]
  },
  {
   "cell_type": "code",
   "execution_count": 41,
   "id": "1d22acff-b249-48b7-a582-34dcbea965f9",
   "metadata": {
    "tags": []
   },
   "outputs": [
    {
     "data": {
      "text/plain": [
       "41.85"
      ]
     },
     "execution_count": 41,
     "metadata": {},
     "output_type": "execute_result"
    }
   ],
   "source": [
    "mean"
   ]
  },
  {
   "cell_type": "code",
   "execution_count": 42,
   "id": "ba22f2b4-f1d5-4cce-a992-b5956dfd1b57",
   "metadata": {
    "tags": []
   },
   "outputs": [
    {
     "data": {
      "text/plain": [
       "41.85"
      ]
     },
     "execution_count": 42,
     "metadata": {},
     "output_type": "execute_result"
    }
   ],
   "source": [
    "np.average(arr)"
   ]
  },
  {
   "cell_type": "code",
   "execution_count": null,
   "id": "d1268e53-fd08-4f20-b79e-d35be26c61b1",
   "metadata": {},
   "outputs": [],
   "source": []
  }
 ],
 "metadata": {
  "kernelspec": {
   "display_name": "Python 3 (ipykernel)",
   "language": "python",
   "name": "python3"
  },
  "language_info": {
   "codemirror_mode": {
    "name": "ipython",
    "version": 3
   },
   "file_extension": ".py",
   "mimetype": "text/x-python",
   "name": "python",
   "nbconvert_exporter": "python",
   "pygments_lexer": "ipython3",
   "version": "3.9.13"
  }
 },
 "nbformat": 4,
 "nbformat_minor": 5
}
