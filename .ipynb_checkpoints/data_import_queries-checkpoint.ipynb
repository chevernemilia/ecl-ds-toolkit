{
 "cells": [
  {
   "cell_type": "markdown",
   "id": "fa893a4b-e458-45c5-a945-1608c05e615f",
   "metadata": {},
   "source": [
    "# Data Import Else Where, SQL etc."
   ]
  },
  {
   "cell_type": "code",
   "execution_count": null,
   "id": "e3838dce-c587-4dd2-beb0-b7faecc65807",
   "metadata": {},
   "outputs": [],
   "source": [
    "# this file dedicate to organize for major codes that can be used use to import from external Schemas/host etc syntax\n",
    "# try to see if it can be used to import data and practice sql coding."
   ]
  },
  {
   "cell_type": "code",
   "execution_count": null,
   "id": "aa58537e-9219-4432-a4a3-d5c705ab2a6a",
   "metadata": {},
   "outputs": [],
   "source": []
  },
  {
   "cell_type": "code",
   "execution_count": null,
   "id": "6dfc1e1f-7a4d-4adc-be17-2f080aa87910",
   "metadata": {},
   "outputs": [],
   "source": []
  },
  {
   "cell_type": "code",
   "execution_count": null,
   "id": "a41cf8b1-e72f-4b28-a2bd-87edad907f60",
   "metadata": {},
   "outputs": [],
   "source": []
  },
  {
   "cell_type": "code",
   "execution_count": null,
   "id": "3f24b0a8-a403-4b3f-b9d0-3e9951295bf5",
   "metadata": {},
   "outputs": [],
   "source": []
  },
  {
   "cell_type": "code",
   "execution_count": null,
   "id": "906e4f5c-9327-4b69-b895-b01bced4866b",
   "metadata": {},
   "outputs": [],
   "source": []
  },
  {
   "cell_type": "code",
   "execution_count": null,
   "id": "79ef9fd3-0281-4811-8603-89d8ea9ba63a",
   "metadata": {},
   "outputs": [],
   "source": []
  },
  {
   "cell_type": "code",
   "execution_count": null,
   "id": "e9acc964-8767-4146-a2a4-7a46719fa3dd",
   "metadata": {},
   "outputs": [],
   "source": []
  }
 ],
 "metadata": {
  "kernelspec": {
   "display_name": "Python 3 (ipykernel)",
   "language": "python",
   "name": "python3"
  },
  "language_info": {
   "codemirror_mode": {
    "name": "ipython",
    "version": 3
   },
   "file_extension": ".py",
   "mimetype": "text/x-python",
   "name": "python",
   "nbconvert_exporter": "python",
   "pygments_lexer": "ipython3",
   "version": "3.9.13"
  }
 },
 "nbformat": 4,
 "nbformat_minor": 5
}
