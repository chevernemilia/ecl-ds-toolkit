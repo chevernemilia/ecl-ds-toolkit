{
 "cells": [
  {
   "cell_type": "markdown",
   "id": "da6b1898-4803-4c94-9e60-37e9358b934b",
   "metadata": {},
   "source": [
    "# Data Manipulation"
   ]
  },
  {
   "cell_type": "code",
   "execution_count": null,
   "id": "98b7ec6c-4726-43a1-8f33-bb73255824d8",
   "metadata": {},
   "outputs": [],
   "source": [
    " # leetcode medium string compression\n",
    "    "
   ]
  },
  {
   "cell_type": "code",
   "execution_count": 37,
   "id": "e07dc640-c217-4e41-9d07-b2223212691e",
   "metadata": {
    "tags": []
   },
   "outputs": [
    {
     "data": {
      "text/plain": [
       "['banana', 'cat', 'dog', 'moon', 'sun']"
      ]
     },
     "execution_count": 37,
     "metadata": {},
     "output_type": "execute_result"
    }
   ],
   "source": [
    "# Given a list of strings, find the smallest unique substring for each string.\n",
    "\n",
    "lst = [\"hello\", \"world\", \"apple\", \"banana\", \"cat\", \"dog\", \"moon\", \"sun\", \"rainbow\"]\n",
    "\n",
    "[len(set(x)) for x in lst]\n",
    "\n",
    "def smallest_uniq_substring(lst):\n",
    "    \n",
    "    lst_item_uniq_cnt = [len(set(x)) for x in lst]\n",
    "    min_uniq_cnt = float('inf')\n",
    "    min_uniq_idx = -1\n",
    "    \n",
    "    min_uniq_ct_list = []\n",
    "    min_uniq_idx_list = []\n",
    "\n",
    "    for idx, word in enumerate(lst):\n",
    "        # print('idx',idx)\n",
    "        uniq_char = set(word)\n",
    "        uniq_cnt = len(uniq_char)\n",
    "    \n",
    "        if uniq_cnt < min_uniq_cnt:\n",
    "            min_uniq_cnt = uniq_cnt\n",
    "            \n",
    "    idx_has_min_uniq_ct = [index for index, cnt in enumerate(lst_item_uniq_cnt) if cnt == min_uniq_cnt]\n",
    "    return(idx_has_min_uniq_ct)\n",
    "            \n",
    "index_has_min_uniq_ct = smallest_uniq_substring(lst)\n",
    "\n",
    "[lst[idx] for idx in index_has_min_uniq_ct]\n",
    "# print(index_has_min_uniq_ct)"
   ]
  },
  {
   "cell_type": "code",
   "execution_count": 15,
   "id": "1a473fd4-7c2d-4c9f-957a-2c214a850239",
   "metadata": {},
   "outputs": [
    {
     "data": {
      "text/plain": [
       "[4, 5, 4, 3, 3, 3, 3, 3, 7]"
      ]
     },
     "execution_count": 15,
     "metadata": {},
     "output_type": "execute_result"
    }
   ],
   "source": [
    "[len(set(x)) for x in lst]\n"
   ]
  },
  {
   "cell_type": "code",
   "execution_count": null,
   "id": "8a4d642a-2788-4baf-a4eb-c100c1529bb8",
   "metadata": {},
   "outputs": [],
   "source": []
  },
  {
   "cell_type": "code",
   "execution_count": null,
   "id": "f54699f7-1189-48f7-961d-ed8294663cd8",
   "metadata": {},
   "outputs": [],
   "source": []
  },
  {
   "cell_type": "code",
   "execution_count": null,
   "id": "0f197bb8-8c67-4b73-a63f-0f5a4e5fb450",
   "metadata": {},
   "outputs": [],
   "source": []
  },
  {
   "cell_type": "code",
   "execution_count": null,
   "id": "ddd80bfe-901a-4a52-8872-a8c3dfe550fe",
   "metadata": {},
   "outputs": [],
   "source": []
  },
  {
   "cell_type": "code",
   "execution_count": null,
   "id": "9aa7b65e-c652-4a23-a9f2-594b048558ec",
   "metadata": {},
   "outputs": [],
   "source": []
  },
  {
   "cell_type": "code",
   "execution_count": null,
   "id": "315c08ec-190c-44b5-966c-adb19836a272",
   "metadata": {},
   "outputs": [],
   "source": []
  },
  {
   "cell_type": "code",
   "execution_count": null,
   "id": "26d3e336-9c2b-413e-a828-657f6828f457",
   "metadata": {},
   "outputs": [],
   "source": []
  },
  {
   "cell_type": "code",
   "execution_count": null,
   "id": "0c4b2192-0f1a-4ecb-bdfc-863f481c2829",
   "metadata": {},
   "outputs": [],
   "source": []
  },
  {
   "cell_type": "code",
   "execution_count": null,
   "id": "cef53344-1c19-45af-8928-111115e71c72",
   "metadata": {},
   "outputs": [],
   "source": []
  },
  {
   "cell_type": "code",
   "execution_count": null,
   "id": "8e0621ea-bae7-4415-aee0-f14b6f1fc07c",
   "metadata": {},
   "outputs": [],
   "source": []
  },
  {
   "cell_type": "code",
   "execution_count": null,
   "id": "1eaadd7f-b9e7-4648-8148-ee48afc15e4e",
   "metadata": {},
   "outputs": [],
   "source": []
  }
 ],
 "metadata": {
  "kernelspec": {
   "display_name": "Python 3 (ipykernel)",
   "language": "python",
   "name": "python3"
  },
  "language_info": {
   "codemirror_mode": {
    "name": "ipython",
    "version": 3
   },
   "file_extension": ".py",
   "mimetype": "text/x-python",
   "name": "python",
   "nbconvert_exporter": "python",
   "pygments_lexer": "ipython3",
   "version": "3.9.13"
  }
 },
 "nbformat": 4,
 "nbformat_minor": 5
}
