{
 "cells": [
  {
   "cell_type": "markdown",
   "id": "6f9d0149-d205-4b64-b582-6a43bde9bb7b",
   "metadata": {},
   "source": [
    "# Supervised ML on Numerical Prediction"
   ]
  },
  {
   "cell_type": "code",
   "execution_count": null,
   "id": "d83cae01-3094-478a-9150-4974260a33b9",
   "metadata": {},
   "outputs": [],
   "source": [
    "# ML types: Regression, regression tree, model tree, ANN, SVM, "
   ]
  },
  {
   "cell_type": "code",
   "execution_count": null,
   "id": "c196fa23-9c2f-423b-925a-9747f2eb2aa7",
   "metadata": {},
   "outputs": [],
   "source": []
  },
  {
   "cell_type": "code",
   "execution_count": null,
   "id": "9678712b-0eef-4411-8c8b-282404ff6c23",
   "metadata": {},
   "outputs": [],
   "source": []
  },
  {
   "cell_type": "code",
   "execution_count": null,
   "id": "86a65312-aae0-4a00-9f0b-552b5e425b1e",
   "metadata": {},
   "outputs": [],
   "source": []
  },
  {
   "cell_type": "markdown",
   "id": "262b7fad-3016-4964-b83e-551cad6a6f98",
   "metadata": {},
   "source": [
    "# (Linear) Regression"
   ]
  },
  {
   "cell_type": "code",
   "execution_count": null,
   "id": "60cc1d93-f57f-4f6d-8373-3a4a4774c624",
   "metadata": {},
   "outputs": [],
   "source": []
  },
  {
   "cell_type": "code",
   "execution_count": null,
   "id": "1bdb87f9-ef1e-4438-a3b0-a5e3434219b6",
   "metadata": {},
   "outputs": [],
   "source": []
  },
  {
   "cell_type": "code",
   "execution_count": null,
   "id": "456bd440-cdad-40f0-9810-32fd2ba2d260",
   "metadata": {},
   "outputs": [],
   "source": []
  },
  {
   "cell_type": "code",
   "execution_count": null,
   "id": "7f1b6023-42d5-4f77-908f-be27bc2a07dd",
   "metadata": {},
   "outputs": [],
   "source": []
  },
  {
   "cell_type": "code",
   "execution_count": null,
   "id": "8f5c77e4-80c1-483e-8c7d-33f2ee735a40",
   "metadata": {},
   "outputs": [],
   "source": []
  },
  {
   "cell_type": "markdown",
   "id": "e6d653d5-6f5a-4bb5-87ec-31a852c9a4f6",
   "metadata": {},
   "source": [
    "# Regression Tree"
   ]
  },
  {
   "cell_type": "code",
   "execution_count": null,
   "id": "285258d1-3a05-482d-989a-e581efb32f0f",
   "metadata": {},
   "outputs": [],
   "source": []
  },
  {
   "cell_type": "code",
   "execution_count": null,
   "id": "03f0eeb4-ed06-4f64-a86d-2e4a54936571",
   "metadata": {},
   "outputs": [],
   "source": []
  },
  {
   "cell_type": "code",
   "execution_count": null,
   "id": "7bc03e64-1a1d-4d1d-88f3-f86a1d643e55",
   "metadata": {},
   "outputs": [],
   "source": []
  },
  {
   "cell_type": "code",
   "execution_count": null,
   "id": "5c982895-b539-4dd8-b559-96a82c5c3c05",
   "metadata": {},
   "outputs": [],
   "source": []
  },
  {
   "cell_type": "code",
   "execution_count": null,
   "id": "eea30b6b-bc1e-4462-8dad-af8bfbb8d242",
   "metadata": {},
   "outputs": [],
   "source": []
  },
  {
   "cell_type": "markdown",
   "id": "f8f60631-af43-48c9-aac3-88424658bf7d",
   "metadata": {},
   "source": [
    "# Model Tree "
   ]
  },
  {
   "cell_type": "code",
   "execution_count": null,
   "id": "db83df36-85c4-47a2-a90b-40878d8ec540",
   "metadata": {},
   "outputs": [],
   "source": []
  },
  {
   "cell_type": "code",
   "execution_count": null,
   "id": "2d66b40d-d15c-4dcd-bce8-0c9bcf1aff5d",
   "metadata": {},
   "outputs": [],
   "source": []
  },
  {
   "cell_type": "code",
   "execution_count": null,
   "id": "706ca358-1f4f-4e38-917f-99ea2baa7460",
   "metadata": {},
   "outputs": [],
   "source": []
  },
  {
   "cell_type": "code",
   "execution_count": null,
   "id": "09bab937-7366-46b6-9bb6-c2a2493944e6",
   "metadata": {},
   "outputs": [],
   "source": []
  },
  {
   "cell_type": "code",
   "execution_count": null,
   "id": "69047da4-c571-4284-8a09-76ce8db40450",
   "metadata": {},
   "outputs": [],
   "source": []
  },
  {
   "cell_type": "markdown",
   "id": "18e750db-f18c-426b-bf15-873c91cea3d1",
   "metadata": {},
   "source": [
    "# ANN (Artificial Neural Network)"
   ]
  },
  {
   "cell_type": "code",
   "execution_count": null,
   "id": "bf2e9682-5d7c-4bae-910d-e28af870276a",
   "metadata": {},
   "outputs": [],
   "source": []
  },
  {
   "cell_type": "code",
   "execution_count": null,
   "id": "9dc7b22f-8f62-423e-992c-0d84fb5da9b0",
   "metadata": {},
   "outputs": [],
   "source": []
  },
  {
   "cell_type": "code",
   "execution_count": null,
   "id": "54b4df3e-dbb9-43f3-83eb-68cb66de21f1",
   "metadata": {},
   "outputs": [],
   "source": []
  },
  {
   "cell_type": "code",
   "execution_count": null,
   "id": "95aac7c2-8af8-4fec-90a5-e0c7399bc741",
   "metadata": {},
   "outputs": [],
   "source": []
  },
  {
   "cell_type": "code",
   "execution_count": null,
   "id": "46774ede-6c87-4275-aafd-73755b67daf8",
   "metadata": {},
   "outputs": [],
   "source": []
  },
  {
   "cell_type": "markdown",
   "id": "a3e755b9-62b7-4b8d-afd4-dc30394c3dcb",
   "metadata": {},
   "source": [
    "# SVM (Support Vector Machine)"
   ]
  },
  {
   "cell_type": "code",
   "execution_count": null,
   "id": "5c1cf08c-10bb-4b0a-aa39-bc028027a0be",
   "metadata": {},
   "outputs": [],
   "source": []
  },
  {
   "cell_type": "code",
   "execution_count": null,
   "id": "4c85345a-d27f-4a80-99b8-d91d4803e914",
   "metadata": {},
   "outputs": [],
   "source": []
  },
  {
   "cell_type": "code",
   "execution_count": null,
   "id": "0a747dcd-cb43-44bd-bf1d-fd1d167f3bf2",
   "metadata": {},
   "outputs": [],
   "source": []
  },
  {
   "cell_type": "code",
   "execution_count": null,
   "id": "632c062b-cccb-4b83-982b-12b0813e06c8",
   "metadata": {},
   "outputs": [],
   "source": []
  },
  {
   "cell_type": "code",
   "execution_count": null,
   "id": "407f1d8f-33b2-4a6d-ab97-147e1595f77e",
   "metadata": {},
   "outputs": [],
   "source": []
  },
  {
   "cell_type": "code",
   "execution_count": null,
   "id": "44f6e8d3-4a8a-4b28-b58f-eef53c810068",
   "metadata": {},
   "outputs": [],
   "source": []
  }
 ],
 "metadata": {
  "kernelspec": {
   "display_name": "Python 3 (ipykernel)",
   "language": "python",
   "name": "python3"
  },
  "language_info": {
   "codemirror_mode": {
    "name": "ipython",
    "version": 3
   },
   "file_extension": ".py",
   "mimetype": "text/x-python",
   "name": "python",
   "nbconvert_exporter": "python",
   "pygments_lexer": "ipython3",
   "version": "3.9.13"
  }
 },
 "nbformat": 4,
 "nbformat_minor": 5
}
