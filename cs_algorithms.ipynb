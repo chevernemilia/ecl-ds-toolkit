{
 "cells": [
  {
   "cell_type": "markdown",
   "id": "cc667ef0-018d-425d-942c-923dfade0086",
   "metadata": {},
   "source": [
    "# Algorithm Practices"
   ]
  },
  {
   "cell_type": "markdown",
   "id": "ba4dab04-9de4-4f99-be4f-7df139181895",
   "metadata": {},
   "source": [
    "\n",
    "[Sorting](#sorting)\n",
    "<a id='sorting_rev'></a>\n",
    "\n",
    "[Binary_Search](#binary_search)\n",
    "<a id='binary_search_rev'></a>\n",
    "\n",
    "[Graph Traversal](#graph_traversal)\n",
    "<a id='graph_traversal_rev'></a>\n",
    "\n",
    "[Divide-and-Conquer](#divide_conquer)\n",
    "<a id='divide_conquer_rev'></a>\n",
    "\n",
    "[Dynamic Programming/Memoization](#dynamic_programming)\n",
    "<a id='dynamic_programming_rev'></a>\n",
    "\n",
    "[Greedy_Algorithm](#greedy_algorithm)\n",
    "<a id='greedy_algorithm_rev'></a>\n",
    "\n",
    "\n",
    "[Recursion](#recursion)\n",
    "<a id='recursion_rev'></a>\n",
    "\n",
    "[Big O](#big_o)\n",
    "<a id='big_o_rev'></a>\n",
    "\n",
    "\n",
    "[](#)\n",
    "[](#)\n",
    "\n",
    "[](#)\n",
    "[](#)\n",
    "\n",
    "[](#)\n",
    "[](#)\n",
    "\n",
    "\n",
    "\n",
    "\n",
    "<a id=''></a>"
   ]
  },
  {
   "cell_type": "code",
   "execution_count": null,
   "id": "e737cef1-9eb1-488b-a9cd-fc3c389b632e",
   "metadata": {},
   "outputs": [],
   "source": []
  },
  {
   "cell_type": "code",
   "execution_count": null,
   "id": "ce331d77-0fd8-42a4-9751-105cffe15abd",
   "metadata": {},
   "outputs": [],
   "source": []
  },
  {
   "cell_type": "code",
   "execution_count": null,
   "id": "1fa0eebc-f491-4b94-a661-21e8a73f3dd8",
   "metadata": {},
   "outputs": [],
   "source": []
  },
  {
   "cell_type": "markdown",
   "id": "42328b3d-5919-49f9-b11f-1ff1ad5a8361",
   "metadata": {},
   "source": [
    "<a id='sorting'></a>\n",
    "[Sorting](#sorting_rev)\n",
    "\n"
   ]
  },
  {
   "cell_type": "code",
   "execution_count": null,
   "id": "d385915b-e765-453c-a748-1665b5e537b4",
   "metadata": {},
   "outputs": [],
   "source": []
  },
  {
   "cell_type": "code",
   "execution_count": null,
   "id": "43b33749-a8b5-4949-b927-37c7b924e8f0",
   "metadata": {},
   "outputs": [],
   "source": []
  },
  {
   "cell_type": "code",
   "execution_count": null,
   "id": "ad214d26-b56c-411e-80a9-ac36ccea6c99",
   "metadata": {},
   "outputs": [],
   "source": []
  },
  {
   "cell_type": "markdown",
   "id": "4ac41610-575a-4c65-abb1-2df5875c2633",
   "metadata": {},
   "source": [
    "<a id='binary_search'></a>\n",
    "[Binary_Search](#binary_search_rev)\n",
    "\n"
   ]
  },
  {
   "cell_type": "code",
   "execution_count": null,
   "id": "2da67af4-687c-404a-bd9e-bb79f874272f",
   "metadata": {},
   "outputs": [],
   "source": []
  },
  {
   "cell_type": "code",
   "execution_count": null,
   "id": "17c23640-7cfa-428a-85d5-9835ef9c6085",
   "metadata": {},
   "outputs": [],
   "source": []
  },
  {
   "cell_type": "code",
   "execution_count": null,
   "id": "bdddb846-603a-4576-adce-40fc82dab574",
   "metadata": {},
   "outputs": [],
   "source": []
  },
  {
   "cell_type": "markdown",
   "id": "5f66059c-fc3f-415a-86bc-68513ba03d2c",
   "metadata": {},
   "source": [
    "<a id='graph_traversal'></a>\n",
    "[Graph Traversal](#graph_traversal_rev)\n",
    "\n"
   ]
  },
  {
   "cell_type": "code",
   "execution_count": null,
   "id": "9a5c0df8-3183-4221-a5de-a83118d6e2b2",
   "metadata": {},
   "outputs": [],
   "source": []
  },
  {
   "cell_type": "code",
   "execution_count": null,
   "id": "bf0113a2-49f6-4dcf-a8ea-96fee853fa42",
   "metadata": {},
   "outputs": [],
   "source": []
  },
  {
   "cell_type": "code",
   "execution_count": null,
   "id": "f350f01b-fb04-4d34-81a2-4f67d0c2dffd",
   "metadata": {},
   "outputs": [],
   "source": []
  },
  {
   "cell_type": "code",
   "execution_count": null,
   "id": "a4b4d22f-7b24-4bdb-9b05-59aa43d80aad",
   "metadata": {},
   "outputs": [],
   "source": []
  },
  {
   "cell_type": "markdown",
   "id": "dcfc54e9-5cc0-434c-a9f3-43f1020a3781",
   "metadata": {},
   "source": [
    "<a id='divide_conquer'></a>\n",
    "[Divide-and-Conquer](#divide_conquer_rev)\n"
   ]
  },
  {
   "cell_type": "code",
   "execution_count": null,
   "id": "dc89352c-9ec1-45c0-99f4-36606b3c90c2",
   "metadata": {},
   "outputs": [],
   "source": []
  },
  {
   "cell_type": "code",
   "execution_count": null,
   "id": "fe0cbe73-cf60-4a50-804c-c19e49682180",
   "metadata": {},
   "outputs": [],
   "source": []
  },
  {
   "cell_type": "code",
   "execution_count": null,
   "id": "f1738183-21ed-4b3a-995e-37c9c2778829",
   "metadata": {},
   "outputs": [],
   "source": []
  },
  {
   "cell_type": "markdown",
   "id": "a22b54f6-52b8-4044-8544-cdd719562ae0",
   "metadata": {},
   "source": [
    "\n",
    "<a id='dynamic_programming'></a>\n",
    "[Dynamic Programming/Memoization](#dynamic_programming_rev)\n",
    "\n"
   ]
  },
  {
   "cell_type": "code",
   "execution_count": null,
   "id": "e6431adc-8245-4914-ab09-8f4268652f53",
   "metadata": {},
   "outputs": [],
   "source": []
  },
  {
   "cell_type": "code",
   "execution_count": null,
   "id": "0d810000-f57f-41f9-8524-dffeefba7d83",
   "metadata": {},
   "outputs": [],
   "source": []
  },
  {
   "cell_type": "code",
   "execution_count": null,
   "id": "d04996ff-90c3-42a1-884a-7375189a4968",
   "metadata": {},
   "outputs": [],
   "source": []
  },
  {
   "cell_type": "code",
   "execution_count": null,
   "id": "44470c01-58a2-46b4-99cc-464c3952ff80",
   "metadata": {},
   "outputs": [],
   "source": []
  },
  {
   "cell_type": "markdown",
   "id": "b91e6e6e-53a8-4fb2-8380-75e8a7148fec",
   "metadata": {},
   "source": [
    "<a id='greedy_algorithm'></a>\n",
    "[Greedy_Algorithm](#greedy_algorithm_rev)\n"
   ]
  },
  {
   "cell_type": "code",
   "execution_count": null,
   "id": "9095e41e-8fac-4de8-9504-1441ef7b1d75",
   "metadata": {},
   "outputs": [],
   "source": []
  },
  {
   "cell_type": "code",
   "execution_count": null,
   "id": "987d8ff4-c006-42b6-84ce-d16a80eeeeb5",
   "metadata": {},
   "outputs": [],
   "source": []
  },
  {
   "cell_type": "code",
   "execution_count": null,
   "id": "29df15e3-b696-4356-aa9a-511adca21003",
   "metadata": {},
   "outputs": [],
   "source": []
  },
  {
   "cell_type": "code",
   "execution_count": null,
   "id": "68ba035d-db64-4d91-86d2-7b22da241549",
   "metadata": {},
   "outputs": [],
   "source": []
  },
  {
   "cell_type": "markdown",
   "id": "5e9e2f76-10c7-4ed5-ad2c-23ac4f24b728",
   "metadata": {},
   "source": [
    "\n",
    "<a id='recursion'></a>\n",
    "[Recursion](#recursion_rev)\n",
    "\n"
   ]
  },
  {
   "cell_type": "code",
   "execution_count": null,
   "id": "a8820a7c-e338-46ea-ba8c-fee1f323c50f",
   "metadata": {},
   "outputs": [],
   "source": []
  },
  {
   "cell_type": "code",
   "execution_count": null,
   "id": "5f13087d-a459-469b-b53e-11d47caf0996",
   "metadata": {},
   "outputs": [],
   "source": []
  },
  {
   "cell_type": "code",
   "execution_count": null,
   "id": "dd124aee-e370-420f-9b95-04d69d031ebc",
   "metadata": {},
   "outputs": [],
   "source": []
  },
  {
   "cell_type": "code",
   "execution_count": null,
   "id": "d5a6b283-6ff8-49cd-8146-d80fb86c4875",
   "metadata": {},
   "outputs": [],
   "source": []
  },
  {
   "cell_type": "markdown",
   "id": "066bee19-826f-4b09-8a0f-ddb70b80f87f",
   "metadata": {},
   "source": [
    "\n",
    "<a id='big_o'></a>\n",
    "[Big O](#big_o_rev)"
   ]
  },
  {
   "cell_type": "code",
   "execution_count": null,
   "id": "3e7c8a9e-2b56-46f3-a9f5-61af8dffd837",
   "metadata": {},
   "outputs": [],
   "source": []
  },
  {
   "cell_type": "code",
   "execution_count": null,
   "id": "9f0cf1de-324b-429a-98c3-49c301196f5f",
   "metadata": {},
   "outputs": [],
   "source": []
  },
  {
   "cell_type": "code",
   "execution_count": null,
   "id": "ff9780d5-b27b-4208-bf37-0b6cb0265950",
   "metadata": {},
   "outputs": [],
   "source": []
  },
  {
   "cell_type": "code",
   "execution_count": null,
   "id": "56e25551-129a-4b02-be6d-f4b8b977d8ff",
   "metadata": {},
   "outputs": [],
   "source": []
  },
  {
   "cell_type": "code",
   "execution_count": null,
   "id": "20b4ffcb-b5da-461e-8706-0230bc29279f",
   "metadata": {},
   "outputs": [],
   "source": []
  }
 ],
 "metadata": {
  "kernelspec": {
   "display_name": "Python 3 (ipykernel)",
   "language": "python",
   "name": "python3"
  },
  "language_info": {
   "codemirror_mode": {
    "name": "ipython",
    "version": 3
   },
   "file_extension": ".py",
   "mimetype": "text/x-python",
   "name": "python",
   "nbconvert_exporter": "python",
   "pygments_lexer": "ipython3",
   "version": "3.9.13"
  }
 },
 "nbformat": 4,
 "nbformat_minor": 5
}
