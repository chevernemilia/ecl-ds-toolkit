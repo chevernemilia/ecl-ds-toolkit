{
 "cells": [
  {
   "cell_type": "markdown",
   "id": "8dacab19-bb43-49e1-838b-c09b6edd761b",
   "metadata": {
    "tags": []
   },
   "source": [
    "# Data Viz Geo\n"
   ]
  },
  {
   "cell_type": "code",
   "execution_count": null,
   "id": "3d47f9c1-6175-405c-8c9c-7067e2847efd",
   "metadata": {},
   "outputs": [],
   "source": []
  },
  {
   "cell_type": "code",
   "execution_count": null,
   "id": "e9c828ba-0502-4f27-a4f4-abf61a2005d5",
   "metadata": {},
   "outputs": [],
   "source": []
  },
  {
   "cell_type": "code",
   "execution_count": null,
   "id": "7051b3b3-ffba-4c01-8096-3330a2c73585",
   "metadata": {},
   "outputs": [],
   "source": []
  },
  {
   "cell_type": "code",
   "execution_count": null,
   "id": "73c36996-a383-419a-9d9d-2c04be3b366f",
   "metadata": {},
   "outputs": [],
   "source": []
  },
  {
   "cell_type": "markdown",
   "id": "4c1804d9-46b3-4414-b963-b5d30765f55c",
   "metadata": {},
   "source": []
  }
 ],
 "metadata": {
  "kernelspec": {
   "display_name": "Python 3 (ipykernel)",
   "language": "python",
   "name": "python3"
  },
  "language_info": {
   "codemirror_mode": {
    "name": "ipython",
    "version": 3
   },
   "file_extension": ".py",
   "mimetype": "text/x-python",
   "name": "python",
   "nbconvert_exporter": "python",
   "pygments_lexer": "ipython3",
   "version": "3.9.13"
  }
 },
 "nbformat": 4,
 "nbformat_minor": 5
}
