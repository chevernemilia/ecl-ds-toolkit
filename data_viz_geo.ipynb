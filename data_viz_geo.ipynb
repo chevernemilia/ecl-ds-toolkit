{
 "cells": [
  {
   "cell_type": "markdown",
   "id": "8dacab19-bb43-49e1-838b-c09b6edd761b",
   "metadata": {
    "tags": []
   },
   "source": [
    "# Data Viz Geo\n"
   ]
  },
  {
   "cell_type": "code",
   "execution_count": 4,
   "id": "3d47f9c1-6175-405c-8c9c-7067e2847efd",
   "metadata": {
    "tags": []
   },
   "outputs": [],
   "source": [
    "import geopandas as gpd\n",
    "import matplotlib.pyplot as plt"
   ]
  },
  {
   "cell_type": "code",
   "execution_count": 1,
   "id": "e9c828ba-0502-4f27-a4f4-abf61a2005d5",
   "metadata": {
    "tags": []
   },
   "outputs": [],
   "source": [
    "\n",
    "\n",
    "# # Load the shapefile\n",
    "# shapefile_path = 'cb_2018_us_state_20m/cb_2018_us_state_20m.shp'\n",
    "# gdf = gpd.read_file(shapefile_path)\n",
    "\n",
    "# # Plot the map\n",
    "# fig, ax = plt.subplots(1, 1, figsize=(15, 10))\n",
    "# gdf.plot(ax=ax, edgecolor='black', color='lightgray')\n",
    "\n",
    "# # Add titles and labels\n",
    "# ax.set_title('Map of the United States with State Boundaries', fontsize=20)\n",
    "# ax.set_xlabel('Longitude', fontsize=15)\n",
    "# ax.set_ylabel('Latitude', fontsize=15)\n",
    "\n",
    "# plt.show()\n"
   ]
  },
  {
   "cell_type": "code",
   "execution_count": null,
   "id": "7051b3b3-ffba-4c01-8096-3330a2c73585",
   "metadata": {},
   "outputs": [],
   "source": []
  },
  {
   "cell_type": "code",
   "execution_count": null,
   "id": "73c36996-a383-419a-9d9d-2c04be3b366f",
   "metadata": {},
   "outputs": [],
   "source": []
  },
  {
   "cell_type": "markdown",
   "id": "4c1804d9-46b3-4414-b963-b5d30765f55c",
   "metadata": {},
   "source": []
  }
 ],
 "metadata": {
  "kernelspec": {
   "display_name": "Python 3 (ipykernel)",
   "language": "python",
   "name": "python3"
  },
  "language_info": {
   "codemirror_mode": {
    "name": "ipython",
    "version": 3
   },
   "file_extension": ".py",
   "mimetype": "text/x-python",
   "name": "python",
   "nbconvert_exporter": "python",
   "pygments_lexer": "ipython3",
   "version": "3.9.13"
  }
 },
 "nbformat": 4,
 "nbformat_minor": 5
}
