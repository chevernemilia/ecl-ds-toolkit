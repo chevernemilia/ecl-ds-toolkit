{
 "cells": [
  {
   "cell_type": "markdown",
   "id": "cef30234-2865-4e28-a6c2-55bb43ce735c",
   "metadata": {},
   "source": [
    "# Supervised ML on Classification"
   ]
  },
  {
   "cell_type": "code",
   "execution_count": null,
   "id": "6f5a9d7c-2467-41cf-af0d-909eeee8e6c6",
   "metadata": {},
   "outputs": [],
   "source": [
    "# ML Types; KNN, Naived Bayes, Decision Tree, Decision Rules, Logistics Regression, ANN, SVM, "
   ]
  },
  {
   "cell_type": "code",
   "execution_count": null,
   "id": "149fbec5-5b6a-4a66-9286-d5f766d35958",
   "metadata": {},
   "outputs": [],
   "source": []
  },
  {
   "cell_type": "code",
   "execution_count": null,
   "id": "42988dd8-ba42-473d-8b7e-7a3ad36cf0da",
   "metadata": {},
   "outputs": [],
   "source": []
  },
  {
   "cell_type": "code",
   "execution_count": null,
   "id": "1f217c8c-7cd6-4c05-bacd-c9df61ac7626",
   "metadata": {},
   "outputs": [],
   "source": []
  },
  {
   "cell_type": "code",
   "execution_count": null,
   "id": "4e5a40ce-9d4a-4d64-ab56-d1a48ae3642a",
   "metadata": {},
   "outputs": [],
   "source": []
  },
  {
   "cell_type": "code",
   "execution_count": null,
   "id": "937a391b-492a-4b92-890f-5387a81f810a",
   "metadata": {},
   "outputs": [],
   "source": []
  }
 ],
 "metadata": {
  "kernelspec": {
   "display_name": "Python 3 (ipykernel)",
   "language": "python",
   "name": "python3"
  },
  "language_info": {
   "codemirror_mode": {
    "name": "ipython",
    "version": 3
   },
   "file_extension": ".py",
   "mimetype": "text/x-python",
   "name": "python",
   "nbconvert_exporter": "python",
   "pygments_lexer": "ipython3",
   "version": "3.9.13"
  }
 },
 "nbformat": 4,
 "nbformat_minor": 5
}
