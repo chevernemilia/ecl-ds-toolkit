{
 "cells": [
  {
   "cell_type": "markdown",
   "id": "cef30234-2865-4e28-a6c2-55bb43ce735c",
   "metadata": {},
   "source": [
    "# Supervised ML on Classification"
   ]
  },
  {
   "cell_type": "code",
   "execution_count": null,
   "id": "6f5a9d7c-2467-41cf-af0d-909eeee8e6c6",
   "metadata": {},
   "outputs": [],
   "source": [
    "# ML Types; KNN, Naived Bayes, Decision Tree, Decision Rules, Logistics Regression, ANN, SVM, "
   ]
  },
  {
   "cell_type": "code",
   "execution_count": null,
   "id": "ed0585c7-89cf-4393-a69c-8b6ca706b991",
   "metadata": {},
   "outputs": [],
   "source": []
  },
  {
   "cell_type": "code",
   "execution_count": null,
   "id": "c99a5bba-79e6-4aeb-8c11-fc2010fa9c89",
   "metadata": {},
   "outputs": [],
   "source": []
  },
  {
   "cell_type": "markdown",
   "id": "a5419d94-b55c-4108-ad44-1a3c92c984db",
   "metadata": {},
   "source": [
    "# KNN"
   ]
  },
  {
   "cell_type": "code",
   "execution_count": null,
   "id": "b2709870-2eee-48bd-8878-5b228b1b5a13",
   "metadata": {},
   "outputs": [],
   "source": []
  },
  {
   "cell_type": "code",
   "execution_count": null,
   "id": "f5a7b18d-5aa9-442b-8e6b-a2f28d7f8e26",
   "metadata": {},
   "outputs": [],
   "source": []
  },
  {
   "cell_type": "code",
   "execution_count": null,
   "id": "5caf3736-5d50-41a6-950e-0ebd3ddda61f",
   "metadata": {},
   "outputs": [],
   "source": []
  },
  {
   "cell_type": "code",
   "execution_count": null,
   "id": "6ba06960-ee50-40a9-a0ae-e1b9010ddd03",
   "metadata": {},
   "outputs": [],
   "source": []
  },
  {
   "cell_type": "markdown",
   "id": "a40b6488-61b4-45cc-a299-8e3b5c0867ee",
   "metadata": {},
   "source": [
    "# Naived Bayes"
   ]
  },
  {
   "cell_type": "code",
   "execution_count": null,
   "id": "199c2a96-93d4-4072-a9b8-0ce34b6e8b58",
   "metadata": {},
   "outputs": [],
   "source": []
  },
  {
   "cell_type": "code",
   "execution_count": null,
   "id": "145647d8-535c-4e19-b28e-5ac35fa6c826",
   "metadata": {},
   "outputs": [],
   "source": []
  },
  {
   "cell_type": "code",
   "execution_count": null,
   "id": "1910b468-fb4c-4e0b-8508-a4037ae890eb",
   "metadata": {},
   "outputs": [],
   "source": []
  },
  {
   "cell_type": "markdown",
   "id": "5d241ae1-969c-4e46-ba3b-ca00c39fb8d2",
   "metadata": {},
   "source": [
    "# Decision Tree"
   ]
  },
  {
   "cell_type": "code",
   "execution_count": null,
   "id": "d2f81bb6-4267-42b9-9ad8-6d548fd47298",
   "metadata": {},
   "outputs": [],
   "source": []
  },
  {
   "cell_type": "code",
   "execution_count": null,
   "id": "c54e589d-5184-4ee0-9388-36438ffe6145",
   "metadata": {},
   "outputs": [],
   "source": []
  },
  {
   "cell_type": "code",
   "execution_count": null,
   "id": "218f0c02-e87a-43b0-b769-1a666e90bb3a",
   "metadata": {},
   "outputs": [],
   "source": []
  },
  {
   "cell_type": "code",
   "execution_count": null,
   "id": "6d7f0ce3-79fd-465f-aa6b-31c362c5ba92",
   "metadata": {},
   "outputs": [],
   "source": []
  },
  {
   "cell_type": "markdown",
   "id": "1c153ca2-1cfe-4d1b-acf7-0527613a9e77",
   "metadata": {},
   "source": [
    "# Decision Rules"
   ]
  },
  {
   "cell_type": "code",
   "execution_count": null,
   "id": "90d9459d-e383-429b-abf9-4b895b178907",
   "metadata": {},
   "outputs": [],
   "source": []
  },
  {
   "cell_type": "code",
   "execution_count": null,
   "id": "7e016ad5-c1ac-48e8-beeb-2fb6de2457e5",
   "metadata": {},
   "outputs": [],
   "source": []
  },
  {
   "cell_type": "code",
   "execution_count": null,
   "id": "6c25cf4d-fd0b-44cc-9074-59535ff66c6b",
   "metadata": {},
   "outputs": [],
   "source": []
  },
  {
   "cell_type": "code",
   "execution_count": null,
   "id": "267ab8b5-f889-49de-bf57-dde6b423605d",
   "metadata": {},
   "outputs": [],
   "source": []
  },
  {
   "cell_type": "markdown",
   "id": "a1457b30-79a2-4299-bf8f-49445c664f68",
   "metadata": {},
   "source": [
    "# Logistics Regression"
   ]
  },
  {
   "cell_type": "code",
   "execution_count": null,
   "id": "ca57ce8d-bbef-4af7-b73d-9c446bbc0a57",
   "metadata": {},
   "outputs": [],
   "source": []
  },
  {
   "cell_type": "code",
   "execution_count": null,
   "id": "8781880e-5b96-453a-8045-969ee98891af",
   "metadata": {},
   "outputs": [],
   "source": []
  },
  {
   "cell_type": "code",
   "execution_count": null,
   "id": "9f68f11e-67b1-4a7f-82f5-3a32f28d7786",
   "metadata": {},
   "outputs": [],
   "source": []
  },
  {
   "cell_type": "code",
   "execution_count": null,
   "id": "42988dd8-ba42-473d-8b7e-7a3ad36cf0da",
   "metadata": {},
   "outputs": [],
   "source": []
  },
  {
   "cell_type": "code",
   "execution_count": null,
   "id": "1f217c8c-7cd6-4c05-bacd-c9df61ac7626",
   "metadata": {},
   "outputs": [],
   "source": []
  },
  {
   "cell_type": "code",
   "execution_count": null,
   "id": "4e5a40ce-9d4a-4d64-ab56-d1a48ae3642a",
   "metadata": {},
   "outputs": [],
   "source": []
  },
  {
   "cell_type": "code",
   "execution_count": null,
   "id": "937a391b-492a-4b92-890f-5387a81f810a",
   "metadata": {},
   "outputs": [],
   "source": []
  }
 ],
 "metadata": {
  "kernelspec": {
   "display_name": "Python 3 (ipykernel)",
   "language": "python",
   "name": "python3"
  },
  "language_info": {
   "codemirror_mode": {
    "name": "ipython",
    "version": 3
   },
   "file_extension": ".py",
   "mimetype": "text/x-python",
   "name": "python",
   "nbconvert_exporter": "python",
   "pygments_lexer": "ipython3",
   "version": "3.9.13"
  }
 },
 "nbformat": 4,
 "nbformat_minor": 5
}
