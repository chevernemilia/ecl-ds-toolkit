{
 "cells": [
  {
   "cell_type": "markdown",
   "id": "da6b1898-4803-4c94-9e60-37e9358b934b",
   "metadata": {},
   "source": [
    "# Data Manipulation"
   ]
  },
  {
   "cell_type": "code",
   "execution_count": 65,
   "id": "531274b3-a978-4a90-89a3-2579afcbb3dd",
   "metadata": {
    "tags": []
   },
   "outputs": [],
   "source": [
    "import pandas as pd\n",
    "import numpy as np"
   ]
  },
  {
   "cell_type": "code",
   "execution_count": null,
   "id": "98b7ec6c-4726-43a1-8f33-bb73255824d8",
   "metadata": {},
   "outputs": [],
   "source": [
    " # leetcode medium string compression\n",
    "    "
   ]
  },
  {
   "cell_type": "code",
   "execution_count": 37,
   "id": "e07dc640-c217-4e41-9d07-b2223212691e",
   "metadata": {
    "tags": []
   },
   "outputs": [
    {
     "data": {
      "text/plain": [
       "['banana', 'cat', 'dog', 'moon', 'sun']"
      ]
     },
     "execution_count": 37,
     "metadata": {},
     "output_type": "execute_result"
    }
   ],
   "source": [
    "# Given a list of strings, find the smallest unique substring for each string.\n",
    "\n",
    "lst = [\"hello\", \"world\", \"apple\", \"banana\", \"cat\", \"dog\", \"moon\", \"sun\", \"rainbow\"]\n",
    "\n",
    "[len(set(x)) for x in lst]\n",
    "\n",
    "def smallest_uniq_substring(lst):\n",
    "    \n",
    "    lst_item_uniq_cnt = [len(set(x)) for x in lst]\n",
    "    min_uniq_cnt = float('inf')\n",
    "    min_uniq_idx = -1\n",
    "    \n",
    "    min_uniq_ct_list = []\n",
    "    min_uniq_idx_list = []\n",
    "\n",
    "    for idx, word in enumerate(lst):\n",
    "        # print('idx',idx)\n",
    "        uniq_char = set(word)\n",
    "        uniq_cnt = len(uniq_char)\n",
    "    \n",
    "        if uniq_cnt < min_uniq_cnt:\n",
    "            min_uniq_cnt = uniq_cnt\n",
    "            \n",
    "    idx_has_min_uniq_ct = [index for index, cnt in enumerate(lst_item_uniq_cnt) if cnt == min_uniq_cnt]\n",
    "    return(idx_has_min_uniq_ct)\n",
    "            \n",
    "index_has_min_uniq_ct = smallest_uniq_substring(lst)\n",
    "\n",
    "[lst[idx] for idx in index_has_min_uniq_ct]\n",
    "# print(index_has_min_uniq_ct)"
   ]
  },
  {
   "cell_type": "code",
   "execution_count": 15,
   "id": "1a473fd4-7c2d-4c9f-957a-2c214a850239",
   "metadata": {},
   "outputs": [
    {
     "data": {
      "text/plain": [
       "[4, 5, 4, 3, 3, 3, 3, 3, 7]"
      ]
     },
     "execution_count": 15,
     "metadata": {},
     "output_type": "execute_result"
    }
   ],
   "source": [
    "[len(set(x)) for x in lst]\n"
   ]
  },
  {
   "cell_type": "code",
   "execution_count": 68,
   "id": "8a4d642a-2788-4baf-a4eb-c100c1529bb8",
   "metadata": {},
   "outputs": [],
   "source": [
    "# join all these objects together by user_id and convert into df? then try to feature engineer later for ML\n",
    "\n",
    "# column_info = [\n",
    "#     {\"user_id\": int},\n",
    "#     {\"age\": int},\n",
    "#     {\"gender\": str},\n",
    "#     {\"income\": float},\n",
    "#     {\"credit_score\": int},\n",
    "#     {\"fraud_label\": str}\n",
    "# ]\n",
    "\n",
    "# data = [\n",
    "#     [1, 35, \"Male\", 50000.0, 700, \"Not Fraud\"],\n",
    "#     [2, 45, \"Female\", 60000.0, 720, \"Not Fraud\"],\n",
    "#     [3, 30, \"Male\", 45000.0, 680, \"Fraud\"],\n",
    "#     [4, 50, \"Male\", 70000.0, 750, \"Not Fraud\"],\n",
    "#     [5, 40, \"Female\", 55000.0, 710, \"Fraud\"]\n",
    "# ]\n",
    "\n",
    "# user_labels = [\n",
    "#     [1, \"Not Fraud\"],\n",
    "#     [2, \"Not Fraud\"],\n",
    "#     [3, \"Fraud\"],\n",
    "#     [4, \"Not Fraud\"],\n",
    "#     [5, \"Fraud\"]\n",
    "# ]\n",
    "\n",
    "\n",
    "column_info = [\n",
    "    {\"user_id\": int},\n",
    "    {\"age\": int},\n",
    "    {\"gender\": str},\n",
    "    {\"income\": float},\n",
    "    {\"credit_score\": int},\n",
    "]\n",
    "\n",
    "data = [\n",
    "    [1, 35, \"Male\", 50000.0, 700,],\n",
    "    [2, 45, \"Female\", 60000.0, 720,],\n",
    "    [3, 30, \"Male\", 45000.0, 680, ],\n",
    "    [4, 50, \"Male\", 70000.0, 750, ],\n",
    "    [5, 40, \"Female\", 55000.0, 710,]\n",
    "]\n",
    "\n",
    "user_labels = [\n",
    "    [1, \"Not Fraud\"],\n",
    "    [2, \"Not Fraud\"],\n",
    "    [3, \"Fraud\"],\n",
    "    [4, \"Not Fraud\"],\n",
    "    [5, \"Fraud\"]\n",
    "]"
   ]
  },
  {
   "cell_type": "code",
   "execution_count": 77,
   "id": "f54699f7-1189-48f7-961d-ed8294663cd8",
   "metadata": {},
   "outputs": [
    {
     "name": "stdout",
     "output_type": "stream",
     "text": [
      "{'user_id': 1, 'age': 35, 'gender': 'Male', 'income': 50000.0, 'credit_score': 700, 'label': 'Not Fraud'}\n",
      "{'user_id': 2, 'age': 45, 'gender': 'Female', 'income': 60000.0, 'credit_score': 720, 'label': 'Not Fraud'}\n",
      "{'user_id': 3, 'age': 30, 'gender': 'Male', 'income': 45000.0, 'credit_score': 680, 'label': 'Fraud'}\n",
      "{'user_id': 4, 'age': 50, 'gender': 'Male', 'income': 70000.0, 'credit_score': 750, 'label': 'Not Fraud'}\n",
      "{'user_id': 5, 'age': 40, 'gender': 'Female', 'income': 55000.0, 'credit_score': 710, 'label': 'Fraud'}\n",
      "[{'user_id': 1, 'age': 35, 'gender': 'Male', 'income': 50000.0, 'credit_score': 700, 'label': 'Not Fraud'}, {'user_id': 2, 'age': 45, 'gender': 'Female', 'income': 60000.0, 'credit_score': 720, 'label': 'Not Fraud'}, {'user_id': 3, 'age': 30, 'gender': 'Male', 'income': 45000.0, 'credit_score': 680, 'label': 'Fraud'}, {'user_id': 4, 'age': 50, 'gender': 'Male', 'income': 70000.0, 'credit_score': 750, 'label': 'Not Fraud'}, {'user_id': 5, 'age': 40, 'gender': 'Female', 'income': 55000.0, 'credit_score': 710, 'label': 'Fraud'}]\n"
     ]
    },
    {
     "data": {
      "text/html": [
       "<div>\n",
       "<style scoped>\n",
       "    .dataframe tbody tr th:only-of-type {\n",
       "        vertical-align: middle;\n",
       "    }\n",
       "\n",
       "    .dataframe tbody tr th {\n",
       "        vertical-align: top;\n",
       "    }\n",
       "\n",
       "    .dataframe thead th {\n",
       "        text-align: right;\n",
       "    }\n",
       "</style>\n",
       "<table border=\"1\" class=\"dataframe\">\n",
       "  <thead>\n",
       "    <tr style=\"text-align: right;\">\n",
       "      <th></th>\n",
       "      <th>user_id</th>\n",
       "      <th>age</th>\n",
       "      <th>gender</th>\n",
       "      <th>income</th>\n",
       "      <th>credit_score</th>\n",
       "      <th>label</th>\n",
       "    </tr>\n",
       "  </thead>\n",
       "  <tbody>\n",
       "    <tr>\n",
       "      <th>0</th>\n",
       "      <td>1</td>\n",
       "      <td>35</td>\n",
       "      <td>Male</td>\n",
       "      <td>50000.0</td>\n",
       "      <td>700</td>\n",
       "      <td>Not Fraud</td>\n",
       "    </tr>\n",
       "    <tr>\n",
       "      <th>1</th>\n",
       "      <td>2</td>\n",
       "      <td>45</td>\n",
       "      <td>Female</td>\n",
       "      <td>60000.0</td>\n",
       "      <td>720</td>\n",
       "      <td>Not Fraud</td>\n",
       "    </tr>\n",
       "    <tr>\n",
       "      <th>2</th>\n",
       "      <td>3</td>\n",
       "      <td>30</td>\n",
       "      <td>Male</td>\n",
       "      <td>45000.0</td>\n",
       "      <td>680</td>\n",
       "      <td>Fraud</td>\n",
       "    </tr>\n",
       "    <tr>\n",
       "      <th>3</th>\n",
       "      <td>4</td>\n",
       "      <td>50</td>\n",
       "      <td>Male</td>\n",
       "      <td>70000.0</td>\n",
       "      <td>750</td>\n",
       "      <td>Not Fraud</td>\n",
       "    </tr>\n",
       "    <tr>\n",
       "      <th>4</th>\n",
       "      <td>5</td>\n",
       "      <td>40</td>\n",
       "      <td>Female</td>\n",
       "      <td>55000.0</td>\n",
       "      <td>710</td>\n",
       "      <td>Fraud</td>\n",
       "    </tr>\n",
       "  </tbody>\n",
       "</table>\n",
       "</div>"
      ],
      "text/plain": [
       "   user_id  age  gender   income  credit_score      label\n",
       "0        1   35    Male  50000.0           700  Not Fraud\n",
       "1        2   45  Female  60000.0           720  Not Fraud\n",
       "2        3   30    Male  45000.0           680      Fraud\n",
       "3        4   50    Male  70000.0           750  Not Fraud\n",
       "4        5   40  Female  55000.0           710      Fraud"
      ]
     },
     "execution_count": 77,
     "metadata": {},
     "output_type": "execute_result"
    }
   ],
   "source": [
    "\n",
    "def create_df(column_info, data, user_labels):\n",
    "    \n",
    "    rows = []\n",
    "    \n",
    "    # i = 5\n",
    "    for i in range(len(data)):\n",
    "        \n",
    "        row = {}\n",
    "        # j = 6\n",
    "        for j in range(len(column_info)):\n",
    "            \n",
    "            col_name =  list(column_info[j].keys())[0]\n",
    "            row[col_name] = data[i][j]\n",
    "            # print(col_name)\n",
    "            # print(row[col_name])\n",
    "            \n",
    "        \n",
    "        row['user_id'] = user_labels[i][0]\n",
    "        row['label'] = user_labels[i][1]       \n",
    "\n",
    "        print(row)\n",
    "        rows.append(row)\n",
    "    \n",
    "    \n",
    "    return(rows)\n",
    "\n",
    "list_dict = create_df(column_info, data, user_labels)\n",
    "\n",
    "print(list_dict)\n",
    "df = pd.DataFrame(list_dict)\n",
    "df"
   ]
  },
  {
   "cell_type": "code",
   "execution_count": null,
   "id": "0f197bb8-8c67-4b73-a63f-0f5a4e5fb450",
   "metadata": {},
   "outputs": [],
   "source": []
  },
  {
   "cell_type": "code",
   "execution_count": null,
   "id": "ddd80bfe-901a-4a52-8872-a8c3dfe550fe",
   "metadata": {},
   "outputs": [],
   "source": []
  },
  {
   "cell_type": "code",
   "execution_count": null,
   "id": "9aa7b65e-c652-4a23-a9f2-594b048558ec",
   "metadata": {},
   "outputs": [],
   "source": []
  },
  {
   "cell_type": "code",
   "execution_count": null,
   "id": "315c08ec-190c-44b5-966c-adb19836a272",
   "metadata": {},
   "outputs": [],
   "source": []
  },
  {
   "cell_type": "code",
   "execution_count": null,
   "id": "26d3e336-9c2b-413e-a828-657f6828f457",
   "metadata": {},
   "outputs": [],
   "source": []
  },
  {
   "cell_type": "code",
   "execution_count": null,
   "id": "0c4b2192-0f1a-4ecb-bdfc-863f481c2829",
   "metadata": {},
   "outputs": [],
   "source": []
  },
  {
   "cell_type": "code",
   "execution_count": null,
   "id": "cef53344-1c19-45af-8928-111115e71c72",
   "metadata": {},
   "outputs": [],
   "source": []
  },
  {
   "cell_type": "code",
   "execution_count": null,
   "id": "8e0621ea-bae7-4415-aee0-f14b6f1fc07c",
   "metadata": {},
   "outputs": [],
   "source": []
  },
  {
   "cell_type": "code",
   "execution_count": null,
   "id": "1eaadd7f-b9e7-4648-8148-ee48afc15e4e",
   "metadata": {},
   "outputs": [],
   "source": []
  }
 ],
 "metadata": {
  "kernelspec": {
   "display_name": "Python 3 (ipykernel)",
   "language": "python",
   "name": "python3"
  },
  "language_info": {
   "codemirror_mode": {
    "name": "ipython",
    "version": 3
   },
   "file_extension": ".py",
   "mimetype": "text/x-python",
   "name": "python",
   "nbconvert_exporter": "python",
   "pygments_lexer": "ipython3",
   "version": "3.9.13"
  }
 },
 "nbformat": 4,
 "nbformat_minor": 5
}
