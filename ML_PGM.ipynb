{
 "cells": [
  {
   "cell_type": "markdown",
   "id": "4d9e6105-4438-40d7-bb93-2c7169923811",
   "metadata": {},
   "source": [
    "#  Probabilistic Graphical Models (PGM)"
   ]
  },
  {
   "cell_type": "markdown",
   "id": "54176fe2-a488-4e6e-8d9c-05016f71da33",
   "metadata": {},
   "source": [
    "<div style=\"white-space: pre-wrap; font-size: smaller;\">\n",
    "<!-- Your long text goes here. It will wrap automatically when it reaches the end of the line. -->\n",
    "\n",
    "# Bayesian Networks (BNs): Also known as directed graphical models, BNs represent probabilistic dependencies between variables using a directed acyclic graph (DAG). Each node represents a random variable, and edges indicate direct dependencies between variables. BNs are widely used for modeling causal relationships and uncertainty propagation.\n",
    "# Markov Random Fields (MRFs): Also known as undirected graphical models, MRFs represent probabilistic dependencies between variables using an undirected graph. Nodes represent variables, and edges represent pairwise dependencies. MRFs are commonly used for tasks such as image segmentation, denoising, and modeling spatial dependencies.\n",
    "# Conditional Random Fields (CRFs): CRFs are a type of discriminative undirected graphical model used for structured prediction tasks such as sequence labeling and segmentation. CRFs model the conditional probability of output variables given input variables, incorporating features to capture dependencies. \n",
    "# Hidden Markov Models (HMMs): HMMs are a type of temporal probabilistic graphical model used for modeling sequential data. They consist of observable variables (emissions) and hidden states. HMMs are widely used for tasks such as speech recognition, natural language processing, and bioinformatics.\n",
    "# Factor Graphs: Factor graphs are a general framework for representing probabilistic models with both directed and undirected dependencies. They provide a unified representation for various types of graphical models and are used for efficient inference and learning algorithms.\n",
    "    \n",
    "</div>"
   ]
  },
  {
   "cell_type": "code",
   "execution_count": null,
   "id": "100f99a7-625f-47e7-9dad-bae3e6d0b614",
   "metadata": {},
   "outputs": [],
   "source": []
  },
  {
   "cell_type": "code",
   "execution_count": null,
   "id": "25349f8a-f9df-4f80-a544-778d19045796",
   "metadata": {},
   "outputs": [],
   "source": []
  },
  {
   "cell_type": "code",
   "execution_count": null,
   "id": "edb54ab8-3368-43df-9c1a-39e4d27ff1e7",
   "metadata": {},
   "outputs": [],
   "source": []
  },
  {
   "cell_type": "code",
   "execution_count": null,
   "id": "4ca3328f-69a8-4d7a-9160-b20951bf46fa",
   "metadata": {},
   "outputs": [],
   "source": []
  },
  {
   "cell_type": "code",
   "execution_count": null,
   "id": "69c97869-5fc1-4d5d-97cf-62e77eaa3277",
   "metadata": {},
   "outputs": [],
   "source": []
  },
  {
   "cell_type": "code",
   "execution_count": null,
   "id": "c42929fa-bc83-47d2-b748-cab972b93efe",
   "metadata": {},
   "outputs": [],
   "source": []
  },
  {
   "cell_type": "code",
   "execution_count": null,
   "id": "95bca48d-ce9e-4d24-98c5-9b3d1280ca60",
   "metadata": {},
   "outputs": [],
   "source": []
  }
 ],
 "metadata": {
  "kernelspec": {
   "display_name": "Python 3 (ipykernel)",
   "language": "python",
   "name": "python3"
  },
  "language_info": {
   "codemirror_mode": {
    "name": "ipython",
    "version": 3
   },
   "file_extension": ".py",
   "mimetype": "text/x-python",
   "name": "python",
   "nbconvert_exporter": "python",
   "pygments_lexer": "ipython3",
   "version": "3.9.13"
  }
 },
 "nbformat": 4,
 "nbformat_minor": 5
}
