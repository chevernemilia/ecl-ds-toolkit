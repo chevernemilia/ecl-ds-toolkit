{
 "cells": [
  {
   "cell_type": "markdown",
   "id": "a80e46f1-6309-408a-b568-0dabe75a02ae",
   "metadata": {},
   "source": [
    "# Data Formating"
   ]
  },
  {
   "cell_type": "code",
   "execution_count": 1,
   "id": "e421adc1-7c90-4062-a96e-75a74fb77d15",
   "metadata": {
    "tags": []
   },
   "outputs": [],
   "source": [
    "# list to dict\n",
    "\n",
    "\n",
    "# dict to list"
   ]
  },
  {
   "cell_type": "code",
   "execution_count": 2,
   "id": "4e85eae1-80f0-470b-9716-a9f7c4c6d971",
   "metadata": {
    "tags": []
   },
   "outputs": [],
   "source": []
  },
  {
   "cell_type": "code",
   "execution_count": 3,
   "id": "7a7d4a52-42ec-4614-8bbd-be0bcd9ce929",
   "metadata": {
    "tags": []
   },
   "outputs": [],
   "source": [
    "# df to json\n"
   ]
  },
  {
   "cell_type": "code",
   "execution_count": 4,
   "id": "5ceb7188-a6d6-4ace-9eca-0d2e618b5c94",
   "metadata": {
    "tags": []
   },
   "outputs": [],
   "source": [
    "# df to xml\n"
   ]
  },
  {
   "cell_type": "code",
   "execution_count": 5,
   "id": "ff442bb8-2e25-44e6-9d0a-778223515fd4",
   "metadata": {
    "tags": []
   },
   "outputs": [],
   "source": [
    "# set to list\n",
    "\n",
    "\n",
    "# list to set"
   ]
  },
  {
   "cell_type": "code",
   "execution_count": null,
   "id": "f9cb96f6-6337-4261-ac0d-ef3d59dc2acd",
   "metadata": {},
   "outputs": [],
   "source": []
  },
  {
   "cell_type": "code",
   "execution_count": null,
   "id": "2d06c46a-734d-49a4-9fe7-0b317a454eb5",
   "metadata": {},
   "outputs": [],
   "source": []
  },
  {
   "cell_type": "code",
   "execution_count": null,
   "id": "a5883cfd-bd94-4e05-97ab-3f769d1febe1",
   "metadata": {},
   "outputs": [],
   "source": []
  },
  {
   "cell_type": "code",
   "execution_count": null,
   "id": "8ae7d226-1504-4fe1-99a0-49e31879d4c6",
   "metadata": {},
   "outputs": [],
   "source": []
  },
  {
   "cell_type": "code",
   "execution_count": null,
   "id": "6488911a-3054-40f8-83ba-d984255a2cd1",
   "metadata": {},
   "outputs": [],
   "source": []
  },
  {
   "cell_type": "code",
   "execution_count": null,
   "id": "2322e7e5-8bda-4e2f-902c-4026918dd57f",
   "metadata": {},
   "outputs": [],
   "source": []
  }
 ],
 "metadata": {
  "kernelspec": {
   "display_name": "Python 3 (ipykernel)",
   "language": "python",
   "name": "python3"
  },
  "language_info": {
   "codemirror_mode": {
    "name": "ipython",
    "version": 3
   },
   "file_extension": ".py",
   "mimetype": "text/x-python",
   "name": "python",
   "nbconvert_exporter": "python",
   "pygments_lexer": "ipython3",
   "version": "3.9.13"
  }
 },
 "nbformat": 4,
 "nbformat_minor": 5
}
